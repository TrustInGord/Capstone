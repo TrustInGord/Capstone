{
  "cells": [
    {
      "cell_type": "markdown",
      "metadata": {
        "id": "view-in-github",
        "colab_type": "text"
      },
      "source": [
        "<a href=\"https://colab.research.google.com/github/TrustInGord/Capstone/blob/main/M2DataWrangling_lab.ipynb\" target=\"_parent\"><img src=\"https://colab.research.google.com/assets/colab-badge.svg\" alt=\"Open In Colab\"/></a>"
      ]
    },
    {
      "cell_type": "markdown",
      "metadata": {
        "id": "eQqq0UDPHYXG"
      },
      "source": [
        "<p style=\"text-align:center\">\n",
        "    <a href=\"https://skills.network/?utm_medium=Exinfluencer&utm_source=Exinfluencer&utm_content=000026UJ&utm_term=10006555&utm_id=NA-SkillsNetwork-Channel-SkillsNetworkCoursesIBMDA0321ENSkillsNetwork21426264-2022-01-01\" target=\"_blank\">\n",
        "    <img src=\"https://cf-courses-data.s3.us.cloud-object-storage.appdomain.cloud/assets/logos/SN_web_lightmode.png\" width=\"200\" alt=\"Skills Network Logo\"  />\n",
        "    </a>\n",
        "</p>\n"
      ]
    },
    {
      "cell_type": "markdown",
      "metadata": {
        "id": "urbHt_6OHYXI"
      },
      "source": [
        "# **Data Wrangling Lab**\n"
      ]
    },
    {
      "cell_type": "markdown",
      "metadata": {
        "id": "AHH-dkUuHYXJ"
      },
      "source": [
        "Estimated time needed: **45 to 60** minutes\n"
      ]
    },
    {
      "cell_type": "markdown",
      "metadata": {
        "id": "Fz40eUhYHYXK"
      },
      "source": [
        "In this assignment you will be performing data wrangling.\n"
      ]
    },
    {
      "cell_type": "markdown",
      "metadata": {
        "id": "Xj-p7hP8HYXM"
      },
      "source": [
        "## Objectives\n"
      ]
    },
    {
      "cell_type": "markdown",
      "metadata": {
        "id": "vA9OxT3-HYXN"
      },
      "source": [
        "In this lab you will perform the following:\n"
      ]
    },
    {
      "cell_type": "markdown",
      "metadata": {
        "id": "FcjxOXqaHYXO"
      },
      "source": [
        "*   Identify duplicate values in the dataset.\n",
        "\n",
        "*   Remove duplicate values from the dataset.\n",
        "\n",
        "*   Identify missing values in the dataset.\n",
        "\n",
        "*   Impute the missing values in the dataset.\n",
        "\n",
        "*   Normalize data in the dataset.\n"
      ]
    },
    {
      "cell_type": "markdown",
      "metadata": {
        "id": "56_qcjuBHYXO"
      },
      "source": [
        "<hr>\n"
      ]
    },
    {
      "cell_type": "markdown",
      "metadata": {
        "id": "C5sUeLf0HYXP"
      },
      "source": [
        "## Hands on Lab\n"
      ]
    },
    {
      "cell_type": "markdown",
      "metadata": {
        "id": "zhEnc1AHHYXQ"
      },
      "source": [
        "Import pandas module.\n"
      ]
    },
    {
      "cell_type": "code",
      "execution_count": null,
      "metadata": {
        "id": "4GSD-kcdHYXR"
      },
      "outputs": [],
      "source": [
        "import pandas as pd"
      ]
    },
    {
      "cell_type": "markdown",
      "metadata": {
        "id": "CDUmky92HYXS"
      },
      "source": [
        "Load the dataset into a dataframe.\n"
      ]
    },
    {
      "cell_type": "code",
      "execution_count": null,
      "metadata": {
        "colab": {
          "base_uri": "https://localhost:8080/"
        },
        "id": "RYw6TNrdHYXT",
        "outputId": "4cd82ba1-5b86-4d6d-e67d-b16ee154da60"
      },
      "outputs": [
        {
          "output_type": "execute_result",
          "data": {
            "text/plain": [
              "(11552, 85)"
            ]
          },
          "metadata": {},
          "execution_count": 2
        }
      ],
      "source": [
        "df = pd.read_csv(\"https://cf-courses-data.s3.us.cloud-object-storage.appdomain.cloud/IBM-DA0321EN-SkillsNetwork/LargeData/m1_survey_data.csv\")\n",
        "\n",
        "df.shape"
      ]
    },
    {
      "cell_type": "markdown",
      "metadata": {
        "id": "6su62sr_HYXT"
      },
      "source": [
        "## Finding duplicates\n"
      ]
    },
    {
      "cell_type": "markdown",
      "metadata": {
        "id": "633EkcpWHYXU"
      },
      "source": [
        "In this section you will identify duplicate values in the dataset.\n"
      ]
    },
    {
      "cell_type": "markdown",
      "metadata": {
        "id": "z37X0GqvHYXU"
      },
      "source": [
        "Find how many duplicate rows exist in the dataframe.\n"
      ]
    },
    {
      "cell_type": "code",
      "execution_count": null,
      "metadata": {
        "colab": {
          "base_uri": "https://localhost:8080/"
        },
        "id": "9sBDJATTHYXU",
        "outputId": "f6af40ef-13de-47df-e053-843bbae2b9c1"
      },
      "outputs": [
        {
          "output_type": "stream",
          "name": "stdout",
          "text": [
            "There are 154 duplicate rows.\n",
            "There are 154 duplicate Respondants.\n"
          ]
        }
      ],
      "source": [
        "# your code goes here\n",
        "print('There are', df.duplicated().sum(), 'duplicate rows.')\n",
        "print('There are', df.duplicated('Respondent').sum(), 'duplicate Respondants.')"
      ]
    },
    {
      "cell_type": "markdown",
      "metadata": {
        "id": "UjVFtlZxHYXV"
      },
      "source": [
        "## Removing duplicates\n"
      ]
    },
    {
      "cell_type": "markdown",
      "metadata": {
        "id": "ZIU4tCNaHYXV"
      },
      "source": [
        "Remove the duplicate rows from the dataframe.\n"
      ]
    },
    {
      "cell_type": "code",
      "execution_count": null,
      "metadata": {
        "colab": {
          "base_uri": "https://localhost:8080/"
        },
        "id": "oiNTF7pcHYXW",
        "outputId": "73c9b2ec-7f49-46af-c838-f25fc6057124"
      },
      "outputs": [
        {
          "output_type": "execute_result",
          "data": {
            "text/plain": [
              "(11398, 85)"
            ]
          },
          "metadata": {},
          "execution_count": 4
        }
      ],
      "source": [
        "# your code goes here\n",
        "df.drop_duplicates(inplace=True)\n",
        "df.shape\n"
      ]
    },
    {
      "cell_type": "markdown",
      "metadata": {
        "id": "b_EC1GyPHYXW"
      },
      "source": [
        "Verify if duplicates were actually dropped.\n"
      ]
    },
    {
      "cell_type": "code",
      "execution_count": null,
      "metadata": {
        "colab": {
          "base_uri": "https://localhost:8080/"
        },
        "id": "yu31U9wGHYXX",
        "outputId": "7917b27d-5788-4fb3-93b0-4046d36bc423"
      },
      "outputs": [
        {
          "output_type": "stream",
          "name": "stdout",
          "text": [
            "There are now 0 duplicate rows.\n",
            "There are 0 duplicate Respondants.\n"
          ]
        }
      ],
      "source": [
        "# your code goes here\n",
        "print('There are now', df.duplicated().sum(), 'duplicate rows.')\n",
        "print('There are', df.duplicated('Respondent').sum(), 'duplicate Respondants.')"
      ]
    },
    {
      "cell_type": "markdown",
      "metadata": {
        "id": "iwLSjFUlHYXX"
      },
      "source": [
        "## Finding Missing values\n"
      ]
    },
    {
      "cell_type": "markdown",
      "metadata": {
        "id": "8N3-ENleHYXX"
      },
      "source": [
        "Find the missing values for all columns.\n"
      ]
    },
    {
      "cell_type": "code",
      "execution_count": null,
      "metadata": {
        "colab": {
          "base_uri": "https://localhost:8080/"
        },
        "id": "PFGgj6gQHYXY",
        "outputId": "06b1d91d-f94f-4971-c3ca-359a851b2b2d"
      },
      "outputs": [
        {
          "output_type": "stream",
          "name": "stdout",
          "text": [
            "Respondent                   0\n",
            "MainBranch                   0\n",
            "Hobbyist                     0\n",
            "OpenSourcer                  0\n",
            "OpenSource                  81\n",
            "Employment                   0\n",
            "Country                      0\n",
            "Student                     51\n",
            "EdLevel                    112\n",
            "UndergradMajor             737\n",
            "EduOther                   164\n",
            "OrgSize                     96\n",
            "DevType                     65\n",
            "YearsCode                    9\n",
            "Age1stCode                  13\n",
            "YearsCodePro                16\n",
            "CareerSat                    0\n",
            "JobSat                       1\n",
            "MgrIdiot                   493\n",
            "MgrMoney                   497\n",
            "MgrWant                    493\n",
            "JobSeek                      0\n",
            "LastHireDate                 0\n",
            "LastInt                    413\n",
            "FizzBuzz                    37\n",
            "JobFactors                   3\n",
            "ResumeUpdate                39\n",
            "CurrencySymbol               0\n",
            "CurrencyDesc                 0\n",
            "CompTotal                  809\n",
            "CompFreq                   206\n",
            "ConvertedComp              816\n",
            "WorkWeekHrs                122\n",
            "WorkPlan                   121\n",
            "WorkChallenge              164\n",
            "WorkRemote                   8\n",
            "WorkLoc                     32\n",
            "ImpSyn                       5\n",
            "CodeRev                      1\n",
            "CodeRevHrs                2426\n",
            "UnitTests                   29\n",
            "PurchaseHow                196\n",
            "PurchaseWhat                38\n",
            "LanguageWorkedWith          11\n",
            "LanguageDesireNextYear     134\n",
            "DatabaseWorkedWith         453\n",
            "DatabaseDesireNextYear    1042\n",
            "PlatformWorkedWith         411\n",
            "PlatformDesireNextYear     544\n",
            "WebFrameWorkedWith        1393\n",
            "WebFrameDesireNextYear    1617\n",
            "MiscTechWorkedWith        2182\n",
            "MiscTechDesireNextYear    1455\n",
            "DevEnviron                  29\n",
            "OpSys                       34\n",
            "Containers                  82\n",
            "BlockchainOrg             2322\n",
            "BlockchainIs              2610\n",
            "BetterLife                  98\n",
            "ITperson                    35\n",
            "OffOn                       38\n",
            "SocialMedia                293\n",
            "Extraversion                20\n",
            "ScreenName                 507\n",
            "SOVisit1st                 325\n",
            "SOVisitFreq                  5\n",
            "SOVisitTo                    1\n",
            "SOFindAnswer                 3\n",
            "SOTimeSaved                 50\n",
            "SOHowMuchTime             1917\n",
            "SOAccount                    1\n",
            "SOPartFreq                1128\n",
            "SOJobs                       6\n",
            "EntTeams                     5\n",
            "SOComm                       0\n",
            "WelcomeChange               85\n",
            "SONewContent              1965\n",
            "Age                        287\n",
            "Gender                      73\n",
            "Trans                      123\n",
            "Sexuality                  542\n",
            "Ethnicity                  675\n",
            "Dependents                 140\n",
            "SurveyLength                19\n",
            "SurveyEase                  14\n",
            "dtype: int64\n"
          ]
        }
      ],
      "source": [
        "# your code goes here\n",
        "with pd.option_context('display.max_rows', None, 'display.max_columns', None):\n",
        "    print(df.isnull().sum())"
      ]
    },
    {
      "cell_type": "markdown",
      "metadata": {
        "id": "vZYRGuH8HYXZ"
      },
      "source": [
        "Find out how many rows are missing in the column 'WorkLoc'\n"
      ]
    },
    {
      "cell_type": "code",
      "execution_count": null,
      "metadata": {
        "colab": {
          "base_uri": "https://localhost:8080/"
        },
        "id": "iWo7xsd6HYXZ",
        "outputId": "eee71381-7e9d-4183-9ced-2e471e887173"
      },
      "outputs": [
        {
          "output_type": "stream",
          "name": "stdout",
          "text": [
            "There are 32 missing values in the column 'WorkLoc'\n",
            "There are 112 missing values in the column 'EdLevel'\n",
            "There are 0 missing values in the column 'Country'\n"
          ]
        }
      ],
      "source": [
        "# your code goes here\n",
        "print(\"There are\", df['WorkLoc'].isnull().sum(), \"missing values in the column 'WorkLoc'\")\n",
        "print(\"There are\", df['EdLevel'].isnull().sum(), \"missing values in the column 'EdLevel'\")\n",
        "print(\"There are\", df['Country'].isnull().sum(), \"missing values in the column 'Country'\")"
      ]
    },
    {
      "cell_type": "markdown",
      "metadata": {
        "id": "rathU5sJHYXZ"
      },
      "source": [
        "## Imputing missing values\n"
      ]
    },
    {
      "cell_type": "markdown",
      "metadata": {
        "id": "xBCdZpyyHYXa"
      },
      "source": [
        "Find the  value counts for the column WorkLoc.\n"
      ]
    },
    {
      "cell_type": "code",
      "execution_count": null,
      "metadata": {
        "colab": {
          "base_uri": "https://localhost:8080/"
        },
        "id": "3EV0DeHnHYXa",
        "outputId": "051e48e9-f767-4ae4-87af-589d60857186"
      },
      "outputs": [
        {
          "output_type": "stream",
          "name": "stdout",
          "text": [
            "There are 3 unique Work Locations in the survey:\n",
            "\n",
            "WorkLoc                                    value count\n",
            "-------                                    -----------\n",
            "Office                                            6806\n",
            "Home                                              3589\n",
            "Other place, such as a coworking space or cafe     971\n",
            "Name: WorkLoc, dtype: int64\n",
            "\n",
            "\n",
            "There are 2 unique Employment values in the survey:\n",
            "\n",
            "Employment        value count\n",
            "----------        -----------\n",
            "Employed full-time    10968\n",
            "Employed part-time      430\n",
            "Name: Employment, dtype: int64\n",
            "\n",
            "\n",
            "There are 12 unique UndergradMajor values in the survey:\n",
            "\n",
            "UndergradMajor        value count\n",
            "---------------        -----------\n",
            "Computer science, computer engineering, or software engineering          6953\n",
            "Information systems, information technology, or system administration     794\n",
            "Another engineering discipline (ex. civil, electrical, mechanical)        759\n",
            "Web development or web design                                             410\n",
            "A natural science (ex. biology, chemistry, physics)                       403\n",
            "Mathematics or statistics                                                 372\n",
            "A business discipline (ex. accounting, finance, marketing)                244\n",
            "A social science (ex. anthropology, psychology, political science)        210\n",
            "A humanities discipline (ex. literature, history, philosophy)             207\n",
            "Fine arts or performing arts (ex. graphic design, music, studio art)      161\n",
            "I never declared a major                                                  124\n",
            "A health science (ex. nursing, pharmacy, radiology)                        24\n",
            "Name: UndergradMajor, dtype: int64\n"
          ]
        }
      ],
      "source": [
        "# your code goes here\n",
        "print('There are', df['WorkLoc'].nunique(), 'unique Work Locations in the survey:')\n",
        "\n",
        "print('\\nWorkLoc                                    value count')      \n",
        "print('-------                                    -----------')\n",
        "print(df['WorkLoc'].value_counts())\n",
        "\n",
        "print('\\n\\nThere are', df['Employment'].nunique(), 'unique Employment values in the survey:')\n",
        "\n",
        "print('\\nEmployment        value count')      \n",
        "print('----------        -----------')\n",
        "print(df['Employment'].value_counts())\n",
        "\n",
        "print('\\n\\nThere are', df['UndergradMajor'].nunique(), 'unique UndergradMajor values in the survey:')\n",
        "\n",
        "print('\\nUndergradMajor        value count')      \n",
        "print('---------------        -----------')\n",
        "print(df['UndergradMajor'].value_counts())\n"
      ]
    },
    {
      "cell_type": "markdown",
      "metadata": {
        "id": "em6rVu5QHYXa"
      },
      "source": [
        "Identify the value that is most frequent (majority) in the WorkLoc column.\n"
      ]
    },
    {
      "cell_type": "code",
      "execution_count": null,
      "metadata": {
        "colab": {
          "base_uri": "https://localhost:8080/"
        },
        "id": "A14hAuRvHYXb",
        "outputId": "d6e6a447-7f4f-47a0-97b3-a558f85bfcdf"
      },
      "outputs": [
        {
          "output_type": "stream",
          "name": "stdout",
          "text": [
            "131596.7316197316\n",
            "57745.0\n"
          ]
        }
      ],
      "source": [
        "#make a note of the majority value here, for future reference\n",
        "# majority value is \"Office\" (6806)\n",
        "\n",
        "print(df['ConvertedComp'].mean())\n",
        "print(df['ConvertedComp'].median())"
      ]
    },
    {
      "cell_type": "markdown",
      "metadata": {
        "id": "bPawQQGLHYXb"
      },
      "source": [
        "Impute (replace) all the empty rows in the column WorkLoc with the value that you have identified as majority.\n"
      ]
    },
    {
      "cell_type": "code",
      "execution_count": null,
      "metadata": {
        "colab": {
          "base_uri": "https://localhost:8080/"
        },
        "id": "E1LTNKVxHYXb",
        "outputId": "c8683208-2e28-42ae-81a3-2665591f294d"
      },
      "outputs": [
        {
          "output_type": "stream",
          "name": "stdout",
          "text": [
            "\n",
            "Value counts for missing data in WorkLoc:\n",
            "\n",
            "False    11366\n",
            "True        32\n",
            "Name: WorkLoc, dtype: int64\n",
            "\n",
            "Here are the first 10 rows missing values for WorkLoc:\n",
            "      Respondent WorkLoc\n",
            "130          285     NaN\n",
            "242          550     NaN\n",
            "866         1847     NaN\n",
            "1455        2826     NaN\n",
            "1753        3536     NaN\n",
            "2339        4768     NaN\n",
            "2689        5562     NaN\n",
            "2788        5769     NaN\n",
            "3165        6613     NaN\n",
            "3213        6721     NaN\n"
          ]
        }
      ],
      "source": [
        "# your code goes here\n",
        "import numpy as np\n",
        "\n",
        "workloc_highest = 'Office'\n",
        "\n",
        "missing_data = df.isnull()\n",
        "#print(missing_data.head(5))\n",
        "\n",
        "print('\\nValue counts for missing data in WorkLoc:\\n')\n",
        "print( missing_data['WorkLoc'].value_counts())\n",
        "\n",
        "\n",
        "print('\\nHere are the first 10 rows missing values for WorkLoc:')\n",
        "print(df[missing_data['WorkLoc']][['Respondent','WorkLoc']].head(10))\n",
        "\n",
        "df['WorkLoc'].replace(np.nan, workloc_highest, inplace=True)"
      ]
    },
    {
      "cell_type": "markdown",
      "metadata": {
        "id": "oFz0UdgvHYXb"
      },
      "source": [
        "After imputation there should ideally not be any empty rows in the WorkLoc column.\n"
      ]
    },
    {
      "cell_type": "markdown",
      "metadata": {
        "id": "7_YauRhCHYXc"
      },
      "source": [
        "Verify if imputing was successful.\n"
      ]
    },
    {
      "cell_type": "code",
      "execution_count": null,
      "metadata": {
        "colab": {
          "base_uri": "https://localhost:8080/"
        },
        "id": "-IB9Ca5gHYXc",
        "outputId": "872aa1ea-a3c7-43d3-a74a-e49f31ead8b4"
      },
      "outputs": [
        {
          "output_type": "stream",
          "name": "stdout",
          "text": [
            "\n",
            "New value counts for missing data in WorkLoc:\n",
            "\n",
            "False    11366\n",
            "True        32\n",
            "Name: WorkLoc, dtype: int64\n"
          ]
        }
      ],
      "source": [
        "# your code goes here\n",
        "print('\\nNew value counts for missing data in WorkLoc:\\n')\n",
        "print(missing_data['WorkLoc'].value_counts())\n",
        "# No 'True' values means that we have eliminated all empty WorkLoc values."
      ]
    },
    {
      "cell_type": "markdown",
      "metadata": {
        "id": "XRtJP36KHYXc"
      },
      "source": [
        "## Normalizing data\n"
      ]
    },
    {
      "cell_type": "markdown",
      "metadata": {
        "id": "GeHu_pfkHYXc"
      },
      "source": [
        "There are two columns in the dataset that talk about compensation.\n",
        "\n",
        "One is \"CompFreq\". This column shows how often a developer is paid (Yearly, Monthly, Weekly).\n",
        "\n",
        "The other is \"CompTotal\". This column talks about how much the developer is paid per Year, Month, or Week depending upon his/her \"CompFreq\".\n",
        "\n",
        "This makes it difficult to compare the total compensation of the developers.\n",
        "\n",
        "In this section you will create a new column called 'NormalizedAnnualCompensation' which contains the 'Annual Compensation' irrespective of the 'CompFreq'.\n",
        "\n",
        "Once this column is ready, it makes comparison of salaries easy.\n"
      ]
    },
    {
      "cell_type": "markdown",
      "metadata": {
        "id": "QBHAtMxEHYXd"
      },
      "source": [
        "<hr>\n"
      ]
    },
    {
      "cell_type": "markdown",
      "metadata": {
        "id": "t6e-OQfEHYXd"
      },
      "source": [
        "List out the various categories in the column 'CompFreq'\n"
      ]
    },
    {
      "cell_type": "code",
      "execution_count": null,
      "metadata": {
        "colab": {
          "base_uri": "https://localhost:8080/"
        },
        "id": "jfF11nViHYXd",
        "outputId": "f12fd763-1dcd-47c3-b25f-5c40a043334b"
      },
      "outputs": [
        {
          "output_type": "stream",
          "name": "stdout",
          "text": [
            "Yearly     6073\n",
            "Monthly    4788\n",
            "Weekly      331\n",
            "Name: CompFreq, dtype: int64\n"
          ]
        }
      ],
      "source": [
        "# your code goes here\n",
        "print(df['CompFreq'].value_counts())"
      ]
    },
    {
      "cell_type": "markdown",
      "metadata": {
        "id": "LwV4RWdxHYXd"
      },
      "source": [
        "Create a new column named 'NormalizedAnnualCompensation'. Use the hint given below if needed.\n"
      ]
    },
    {
      "cell_type": "markdown",
      "metadata": {
        "id": "OxvBVBb3HYXe"
      },
      "source": [
        "Double click to see the **Hint**.\n",
        "\n",
        "<!--\n",
        "\n",
        "Use the below logic to arrive at the values for the column NormalizedAnnualCompensation.\n",
        "\n",
        "If the CompFreq is Yearly then use the exising value in CompTotal\n",
        "If the CompFreq is Monthly then multiply the value in CompTotal with 12 (months in an year)\n",
        "If the CompFreq is Weekly then multiply the value in CompTotal with 52 (weeks in an year)\n",
        "\n",
        "-->\n"
      ]
    },
    {
      "cell_type": "code",
      "execution_count": null,
      "metadata": {
        "colab": {
          "base_uri": "https://localhost:8080/"
        },
        "id": "dalG4KE3HYXe",
        "outputId": "e138caa4-76e1-4b56-ef1f-bdd0c75400c5"
      },
      "outputs": [
        {
          "output_type": "execute_result",
          "data": {
            "text/plain": [
              "100000.0"
            ]
          },
          "metadata": {},
          "execution_count": 13
        }
      ],
      "source": [
        "# your code goes here\n",
        "df.loc[df['CompFreq'] == 'Yearly', 'NormalizedAnnualCompensation']  = 1  * df['CompTotal']\n",
        "df.loc[df['CompFreq'] == 'Monthly', 'NormalizedAnnualCompensation'] = 12 * df['CompTotal']\n",
        "df.loc[df['CompFreq'] == 'Weekly', 'NormalizedAnnualCompensation']  = 52 * df['CompTotal']\n",
        "\n",
        "\n",
        "df[['CompTotal','CompFreq','NormalizedAnnualCompensation']].head(20)\n",
        "\n",
        "df['NormalizedAnnualCompensation'].median()\n"
      ]
    },
    {
      "cell_type": "markdown",
      "metadata": {
        "id": "M_fFb2qiHYXe"
      },
      "source": [
        "## Authors\n"
      ]
    },
    {
      "cell_type": "markdown",
      "metadata": {
        "id": "d0wrjqZtHYXe"
      },
      "source": [
        "Ramesh Sannareddy\n"
      ]
    },
    {
      "cell_type": "markdown",
      "metadata": {
        "id": "K3QvTuPKHYXf"
      },
      "source": [
        "### Other Contributors\n"
      ]
    },
    {
      "cell_type": "markdown",
      "metadata": {
        "id": "gmEtnDUDHYXf"
      },
      "source": [
        "Rav Ahuja\n"
      ]
    },
    {
      "cell_type": "markdown",
      "metadata": {
        "id": "jPNXAJJ0HYXf"
      },
      "source": [
        "## Change Log\n"
      ]
    },
    {
      "cell_type": "markdown",
      "metadata": {
        "id": "U3e4_m5IHYXg"
      },
      "source": [
        "| Date (YYYY-MM-DD) | Version | Changed By        | Change Description                 |\n",
        "| ----------------- | ------- | ----------------- | ---------------------------------- |\n",
        "| 2020-10-17        | 0.1     | Ramesh Sannareddy | Created initial version of the lab |\n"
      ]
    },
    {
      "cell_type": "markdown",
      "metadata": {
        "id": "SgCOzaowHYXg"
      },
      "source": [
        "Copyright © 2020 IBM Corporation. This notebook and its source code are released under the terms of the [MIT License](https://cognitiveclass.ai/mit-license?utm_medium=Exinfluencer&utm_source=Exinfluencer&utm_content=000026UJ&utm_term=10006555&utm_id=NA-SkillsNetwork-Channel-SkillsNetworkCoursesIBMDA0321ENSkillsNetwork21426264-2022-01-01&cm_mmc=Email_Newsletter-\\_-Developer_Ed%2BTech-\\_-WW_WW-\\_-SkillsNetwork-Courses-IBM-DA0321EN-SkillsNetwork-21426264&cm_mmca1=000026UJ&cm_mmca2=10006555&cm_mmca3=M12345678&cvosrc=email.Newsletter.M12345678&cvo_campaign=000026UJ).\n"
      ]
    }
  ],
  "metadata": {
    "kernelspec": {
      "display_name": "Python 3",
      "language": "python",
      "name": "python3"
    },
    "language_info": {
      "codemirror_mode": {
        "name": "ipython",
        "version": 3
      },
      "file_extension": ".py",
      "mimetype": "text/x-python",
      "name": "python",
      "nbconvert_exporter": "python",
      "pygments_lexer": "ipython3",
      "version": "3.7.6"
    },
    "colab": {
      "name": "M2DataWrangling-lab.ipynb",
      "provenance": [],
      "include_colab_link": true
    }
  },
  "nbformat": 4,
  "nbformat_minor": 0
}