{
  "cells": [
    {
      "cell_type": "markdown",
      "metadata": {
        "id": "view-in-github",
        "colab_type": "text"
      },
      "source": [
        "<a href=\"https://colab.research.google.com/github/TrustInGord/Capstone/blob/main/M3ExploratoryDataAnalysis_lab.ipynb\" target=\"_parent\"><img src=\"https://colab.research.google.com/assets/colab-badge.svg\" alt=\"Open In Colab\"/></a>"
      ]
    },
    {
      "cell_type": "markdown",
      "metadata": {
        "id": "7l6rB2ByIkPh"
      },
      "source": [
        "<p style=\"text-align:center\">\n",
        "    <a href=\"https://skills.network/?utm_medium=Exinfluencer&utm_source=Exinfluencer&utm_content=000026UJ&utm_term=10006555&utm_id=NA-SkillsNetwork-Channel-SkillsNetworkCoursesIBMDA0321ENSkillsNetwork21426264-2022-01-01\" target=\"_blank\">\n",
        "    <img src=\"https://cf-courses-data.s3.us.cloud-object-storage.appdomain.cloud/assets/logos/SN_web_lightmode.png\" width=\"200\" alt=\"Skills Network Logo\"  />\n",
        "    </a>\n",
        "</p>\n"
      ]
    },
    {
      "cell_type": "markdown",
      "metadata": {
        "id": "yzP1sVCHIkPn"
      },
      "source": [
        "# **Exploratory Data Analysis Lab**\n"
      ]
    },
    {
      "cell_type": "markdown",
      "metadata": {
        "id": "5ooVXZaDIkPq"
      },
      "source": [
        "Estimated time needed: **30** minutes\n"
      ]
    },
    {
      "cell_type": "markdown",
      "metadata": {
        "id": "QLfEoczjIkPs"
      },
      "source": [
        "In this module you get to work with the cleaned dataset from the previous module.\n",
        "\n",
        "In this assignment you will perform the task of exploratory data analysis.\n",
        "You will find out the distribution of data, presence of outliers and also determine the correlation between different columns in the dataset.\n"
      ]
    },
    {
      "cell_type": "markdown",
      "metadata": {
        "id": "PuUjJhkWIkPt"
      },
      "source": [
        "## Objectives\n"
      ]
    },
    {
      "cell_type": "markdown",
      "metadata": {
        "id": "nMYdu6ndIkPu"
      },
      "source": [
        "In this lab you will perform the following:\n"
      ]
    },
    {
      "cell_type": "markdown",
      "metadata": {
        "id": "CyiBSpXHIkPv"
      },
      "source": [
        "*   Identify the distribution of data in the dataset.\n",
        "\n",
        "*   Identify outliers in the dataset.\n",
        "\n",
        "*   Remove outliers from the dataset.\n",
        "\n",
        "*   Identify correlation between features in the dataset.\n"
      ]
    },
    {
      "cell_type": "markdown",
      "metadata": {
        "id": "6QPqDMA6IkPw"
      },
      "source": [
        "***\n"
      ]
    },
    {
      "cell_type": "markdown",
      "metadata": {
        "id": "gnyrcr7HIkPx"
      },
      "source": [
        "## Hands on Lab\n"
      ]
    },
    {
      "cell_type": "markdown",
      "metadata": {
        "id": "VrSAj6CEIkPz"
      },
      "source": [
        "Import the pandas module.\n"
      ]
    },
    {
      "cell_type": "code",
      "execution_count": null,
      "metadata": {
        "id": "DkOkdyVNIkP0"
      },
      "outputs": [],
      "source": [
        "import pandas as pd"
      ]
    },
    {
      "cell_type": "markdown",
      "metadata": {
        "id": "60DDL6NeIkP2"
      },
      "source": [
        "Load the dataset into a dataframe.\n"
      ]
    },
    {
      "cell_type": "code",
      "execution_count": null,
      "metadata": {
        "id": "EZiE10UlIkP3"
      },
      "outputs": [],
      "source": [
        "df = pd.read_csv(\"https://cf-courses-data.s3.us.cloud-object-storage.appdomain.cloud/IBM-DA0321EN-SkillsNetwork/LargeData/m2_survey_data.csv\")"
      ]
    },
    {
      "cell_type": "markdown",
      "metadata": {
        "id": "V9tv4jBAIkP4"
      },
      "source": [
        "## Distribution\n"
      ]
    },
    {
      "cell_type": "markdown",
      "metadata": {
        "id": "KaBwiGcPIkP4"
      },
      "source": [
        "### Determine how the data is distributed\n"
      ]
    },
    {
      "cell_type": "markdown",
      "metadata": {
        "id": "g5GeWCJWIkP4"
      },
      "source": [
        "The column `ConvertedComp` contains Salary converted to annual USD salaries using the exchange rate on 2019-02-01.\n",
        "\n",
        "This assumes 12 working months and 50 working weeks.\n"
      ]
    },
    {
      "cell_type": "markdown",
      "metadata": {
        "id": "Qw4UJaTUIkP4"
      },
      "source": [
        "Plot the distribution curve for the column `ConvertedComp`.\n"
      ]
    },
    {
      "cell_type": "code",
      "execution_count": null,
      "metadata": {
        "colab": {
          "base_uri": "https://localhost:8080/",
          "height": 345
        },
        "id": "Dhjez994IkP5",
        "outputId": "f8b857c5-d2ac-4d2c-b67b-3a1a2bbef952"
      },
      "outputs": [
        {
          "output_type": "stream",
          "name": "stderr",
          "text": [
            "/usr/local/lib/python3.7/dist-packages/seaborn/distributions.py:2619: FutureWarning: `distplot` is a deprecated function and will be removed in a future version. Please adapt your code to use either `displot` (a figure-level function with similar flexibility) or `kdeplot` (an axes-level function for kernel density plots).\n",
            "  warnings.warn(msg, FutureWarning)\n"
          ]
        },
        {
          "output_type": "display_data",
          "data": {
            "text/plain": [
              "<Figure size 432x288 with 1 Axes>"
            ],
            "image/png": "[encoded data removed]"
          },
          "metadata": {
            "needs_background": "light"
          }
        }
      ],
      "source": [
        "import matplotlib.pyplot as plt\n",
        "%matplotlib inline\n",
        "import seaborn as sns\n",
        "\n",
        "# your code goes here\n",
        "sns.distplot(df['ConvertedComp'], 'ConvertedComp', hist = False, kde = True)\n",
        "\n",
        "plt.show()"
      ]
    },
    {
      "cell_type": "markdown",
      "metadata": {
        "id": "N11zYcFdIkP5"
      },
      "source": [
        "Plot the histogram for the column `ConvertedComp`.\n"
      ]
    },
    {
      "cell_type": "code",
      "execution_count": null,
      "metadata": {
        "colab": {
          "base_uri": "https://localhost:8080/",
          "height": 295
        },
        "id": "NJIljN_zIkP6",
        "outputId": "7eeb56a2-75e6-4add-c7a5-682ebcb1d7c5"
      },
      "outputs": [
        {
          "output_type": "execute_result",
          "data": {
            "text/plain": [
              "<matplotlib.axes._subplots.AxesSubplot at 0x7f1ffd7d8b90>"
            ]
          },
          "metadata": {},
          "execution_count": 6
        },
        {
          "output_type": "display_data",
          "data": {
            "text/plain": [
              "<Figure size 432x288 with 1 Axes>"
            ],
            "image/png": "[encoded data removed]"
          },
          "metadata": {
            "needs_background": "light"
          }
        }
      ],
      "source": [
        "# your code goes here\n",
        "df['ConvertedComp'].plot.hist(bins=12, alpha=0.5)"
      ]
    },
    {
      "cell_type": "markdown",
      "metadata": {
        "id": "1wiZDPKMIkP6"
      },
      "source": [
        "What is the median of the column `ConvertedComp`?\n"
      ]
    },
    {
      "cell_type": "code",
      "execution_count": null,
      "metadata": {
        "colab": {
          "base_uri": "https://localhost:8080/"
        },
        "id": "zNktk36kIkP6",
        "outputId": "0ed3c853-9b19-4b43-c144-c9f01d2fd249"
      },
      "outputs": [
        {
          "output_type": "stream",
          "name": "stdout",
          "text": [
            "median ConvertedComp is 57745.0\n",
            "median Age is 29.0\n"
          ]
        }
      ],
      "source": [
        "# your code goes here\n",
        "print('median ConvertedComp is',df['ConvertedComp'].median())\n",
        "print('median Age is',df['Age'].median())"
      ]
    },
    {
      "cell_type": "markdown",
      "metadata": {
        "id": "sCAX944SIkP7"
      },
      "source": [
        "How many responders identified themselves only as a **Man**?\n"
      ]
    },
    {
      "cell_type": "code",
      "execution_count": null,
      "metadata": {
        "colab": {
          "base_uri": "https://localhost:8080/"
        },
        "id": "o2rseCxrIkP8",
        "outputId": "e01234cf-62eb-4c7c-e002-17ffd5a8564e"
      },
      "outputs": [
        {
          "output_type": "stream",
          "name": "stdout",
          "text": [
            "\n",
            "\n",
            "There are 7 unique Gender values in the survey:\n",
            "\n",
            "Gender        value count\n",
            "------        -----------\n",
            "Man                                                            10480\n",
            "Woman                                                            731\n",
            "Non-binary, genderqueer, or gender non-conforming                 63\n",
            "Man;Non-binary, genderqueer, or gender non-conforming             26\n",
            "Woman;Non-binary, genderqueer, or gender non-conforming           14\n",
            "Woman;Man                                                          9\n",
            "Woman;Man;Non-binary, genderqueer, or gender non-conforming        2\n",
            "Name: Gender, dtype: int64\n",
            "\n",
            " 10480 respondents identify as \"Man\"\n"
          ]
        }
      ],
      "source": [
        "# your code goes here\n",
        "print('\\n\\nThere are', df['Gender'].nunique(), 'unique Gender values in the survey:')\n",
        "\n",
        "print('\\nGender        value count')      \n",
        "print('------        -----------')\n",
        "print(df['Gender'].value_counts())\n",
        "\n",
        "print('\\n', df['Gender'].eq('Man').sum(), 'respondents identify as \"Man\"')"
      ]
    },
    {
      "cell_type": "markdown",
      "metadata": {
        "id": "VDoTA89ZIkP8"
      },
      "source": [
        "Find out the  median ConvertedComp of responders identified themselves only as a **Woman**?\n"
      ]
    },
    {
      "cell_type": "code",
      "execution_count": null,
      "metadata": {
        "colab": {
          "base_uri": "https://localhost:8080/"
        },
        "id": "Vhd5DvNWIkP8",
        "outputId": "13e33e34-b899-4d85-8b38-d7554cdf0029"
      },
      "outputs": [
        {
          "output_type": "stream",
          "name": "stdout",
          "text": [
            "The median ConvertedComp of responders identified themselves only as a Woman is 57708.0\n"
          ]
        }
      ],
      "source": [
        "# your code goes here\n",
        "df['ConvertedComp'].median()\n",
        "print('The median ConvertedComp of responders identified themselves only as a Woman is', df[df['Gender'].eq('Woman')]['ConvertedComp'].median())"
      ]
    },
    {
      "cell_type": "markdown",
      "metadata": {
        "id": "CLh_ws1EIkP9"
      },
      "source": [
        "Give the five number summary for the column `Age`?\n"
      ]
    },
    {
      "cell_type": "markdown",
      "metadata": {
        "id": "FkiyV7JPIkP9"
      },
      "source": [
        "**Double click here for hint**.\n",
        "\n",
        "<!--\n",
        "min,q1,median,q3,max of a column are its five number summary.\n",
        "-->\n"
      ]
    },
    {
      "cell_type": "code",
      "execution_count": null,
      "metadata": {
        "colab": {
          "base_uri": "https://localhost:8080/"
        },
        "id": "-483BBsnIkP9",
        "outputId": "a39f83f8-6455-4118-e61d-d734ac47a35d"
      },
      "outputs": [
        {
          "output_type": "execute_result",
          "data": {
            "text/plain": [
              "count    11111.000000\n",
              "mean        30.778895\n",
              "std          7.393686\n",
              "min         16.000000\n",
              "25%         25.000000\n",
              "50%         29.000000\n",
              "75%         35.000000\n",
              "max         99.000000\n",
              "Name: Age, dtype: float64"
            ]
          },
          "metadata": {},
          "execution_count": 19
        }
      ],
      "source": [
        "# your code goes here\n",
        "df['Age'].describe()"
      ]
    },
    {
      "cell_type": "markdown",
      "metadata": {
        "id": "2dKjeFevIkP-"
      },
      "source": [
        "Plot a histogram of the column `Age`.\n"
      ]
    },
    {
      "cell_type": "code",
      "execution_count": null,
      "metadata": {
        "colab": {
          "base_uri": "https://localhost:8080/",
          "height": 282
        },
        "id": "Fw-eniKzIkP-",
        "outputId": "78be40c7-74d1-47b6-ada1-322a71241c12"
      },
      "outputs": [
        {
          "output_type": "execute_result",
          "data": {
            "text/plain": [
              "<matplotlib.axes._subplots.AxesSubplot at 0x7f1ffd425550>"
            ]
          },
          "metadata": {},
          "execution_count": 20
        },
        {
          "output_type": "display_data",
          "data": {
            "text/plain": [
              "<Figure size 432x288 with 1 Axes>"
            ],
            "image/png": "[encoded data removed]"
          },
          "metadata": {
            "needs_background": "light"
          }
        }
      ],
      "source": [
        "# your code goes here\n",
        "df['Age'].plot.hist(bins=20, alpha=0.5)"
      ]
    },
    {
      "cell_type": "markdown",
      "metadata": {
        "id": "Y3LYwgrdIkP_"
      },
      "source": [
        "## Outliers\n"
      ]
    },
    {
      "cell_type": "markdown",
      "metadata": {
        "id": "mXFPvPzjIkP_"
      },
      "source": [
        "### Finding outliers\n"
      ]
    },
    {
      "cell_type": "markdown",
      "metadata": {
        "id": "9jxbQHAYIkP_"
      },
      "source": [
        "Find out if outliers exist in the column `ConvertedComp` using a box plot?\n"
      ]
    },
    {
      "cell_type": "code",
      "execution_count": null,
      "metadata": {
        "colab": {
          "base_uri": "https://localhost:8080/"
        },
        "id": "w1BS0IwBIkQC",
        "outputId": "b84855ad-f186-4da3-d8e6-eaff1a5322a1"
      },
      "outputs": [
        {
          "output_type": "stream",
          "name": "stdout",
          "text": [
            "Outliers below: 0\n",
            "Outliers above: 879\n",
            "Outliers below: 0\n",
            "Median with outliers: 57745.0\n",
            "Median with outliers removed: 52704.0\n",
            "Mean with outliers removed: 59883.20838915799\n"
          ]
        }
      ],
      "source": [
        "# your code goes here\n",
        "# It's an outlier if it is less than: Q1 - 1.5 * IQR. or if it is greater than: Q3 + 1.5 * IQR\n",
        "print('Outliers below:',df['ConvertedComp'].lt(Q1 - 1.5*IQR).sum())\n",
        "print('Outliers above:',df['ConvertedComp'].gt(Q3 + 1.5*IQR).sum())\n",
        "print('Outliers below:',df['ConvertedComp'].lt(Q1 - 1.5*IQR).sum())\n",
        "print('Median with outliers:',df['ConvertedComp'].median())\n",
        "print('Median with outliers removed:',df[df['ConvertedComp'].le(Q3 + 1.5*IQR)]['ConvertedComp'].median())\n",
        "print('Mean with outliers removed:',df[df['ConvertedComp'].le(Q3 + 1.5*IQR)]['ConvertedComp'].mean())"
      ]
    },
    {
      "cell_type": "code",
      "execution_count": null,
      "metadata": {
        "colab": {
          "base_uri": "https://localhost:8080/",
          "height": 296
        },
        "id": "AeI9nJz6IkQA",
        "outputId": "d2560802-142f-43e7-9de4-12bca0316ca1"
      },
      "outputs": [
        {
          "output_type": "execute_result",
          "data": {
            "text/plain": [
              "<matplotlib.axes._subplots.AxesSubplot at 0x7f1ffd339e90>"
            ]
          },
          "metadata": {},
          "execution_count": 22
        },
        {
          "output_type": "display_data",
          "data": {
            "text/plain": [
              "<Figure size 432x288 with 1 Axes>"
            ],
            "image/png": "[encoded data removed]"
          },
          "metadata": {
            "needs_background": "light"
          }
        }
      ],
      "source": [
        "# your code goes here\n",
        "sns.boxplot(x=df[\"ConvertedComp\"])"
      ]
    },
    {
      "cell_type": "markdown",
      "metadata": {
        "id": "YorSP8rGIkQA"
      },
      "source": [
        "Find out the Inter Quartile Range for the column `ConvertedComp`.\n"
      ]
    },
    {
      "cell_type": "code",
      "execution_count": null,
      "metadata": {
        "colab": {
          "base_uri": "https://localhost:8080/"
        },
        "id": "WaI_rI3UIkQA",
        "outputId": "2e758927-da5a-42e6-fee7-cee7400997c7"
      },
      "outputs": [
        {
          "output_type": "stream",
          "name": "stdout",
          "text": [
            "The middle quartiles for ConvertedComp range from 26868.0 to 100000.0 . The interquartile range is 73132.0\n"
          ]
        }
      ],
      "source": [
        "# your code goes here\n",
        "df['ConvertedComp'].describe()\n",
        "\n",
        "Q1 = df['ConvertedComp'].quantile(0.25)\n",
        "Q3 = df['ConvertedComp'].quantile(0.75)\n",
        "IQR = Q3 - Q1\n",
        "print('The middle quartiles for ConvertedComp range from',Q1, 'to',Q3,'. The interquartile range is',IQR)"
      ]
    },
    {
      "cell_type": "markdown",
      "metadata": {
        "id": "DWOFMYm1IkQB"
      },
      "source": [
        "Find out the upper and lower bounds.\n"
      ]
    },
    {
      "cell_type": "code",
      "execution_count": null,
      "metadata": {
        "colab": {
          "base_uri": "https://localhost:8080/"
        },
        "id": "rd0r4RKnIkQB",
        "outputId": "0e5da836-b328-4f0b-f875-26b51ee597aa"
      },
      "outputs": [
        {
          "output_type": "stream",
          "name": "stdout",
          "text": [
            "The min/max for ConvertedComp are 0.0 and 2000000.0\n"
          ]
        }
      ],
      "source": [
        "# your code goes here\n",
        "min_val = df['ConvertedComp'].min()\n",
        "max_val = df['ConvertedComp'].max()\n",
        "print('The min/max for ConvertedComp are',min_val, 'and', max_val)"
      ]
    },
    {
      "cell_type": "markdown",
      "metadata": {
        "id": "AJ6jeAkIIkQB"
      },
      "source": [
        "Identify how many outliers are there in the `ConvertedComp` column.\n"
      ]
    },
    {
      "cell_type": "markdown",
      "metadata": {
        "id": "I0MkeZb3IkQD"
      },
      "source": [
        "Create a new dataframe by removing the outliers from the `ConvertedComp` column.\n"
      ]
    },
    {
      "cell_type": "code",
      "execution_count": null,
      "metadata": {
        "colab": {
          "base_uri": "https://localhost:8080/"
        },
        "id": "H-KkFjSAIkQE",
        "outputId": "39f8b3d5-8c66-4293-f17d-2a374cce13f9"
      },
      "outputs": [
        {
          "output_type": "stream",
          "name": "stdout",
          "text": [
            "(11398, 85)\n",
            "(11398,)\n",
            "total number in new dataset: 9703\n",
            "total number of outliers removed: 9703\n",
            "total number of nulls removed: 816\n",
            "total of outliers + inliers + nulls: 11398\n"
          ]
        }
      ],
      "source": [
        "# your code goes here\n",
        "print(df.shape)\n",
        "print(df['ConvertedComp'].gt(Q3 + 1.5*IQR).shape)\n",
        "df1 = df[df['ConvertedComp'].le(Q3 + 1.5*IQR)]\n",
        "print('total number in new dataset:',df1.shape[0])\n",
        "df[df['ConvertedComp'].gt(Q3 + 1.5*IQR)].shape\n",
        "print('total number of outliers removed:',df1.shape[0])\n",
        "df3 = df[df['ConvertedComp'].isnull()]\n",
        "print('total number of nulls removed:',df3.shape[0])\n",
        "print('total of outliers + inliers + nulls:', (9703 + 879 + 816))"
      ]
    },
    {
      "cell_type": "markdown",
      "metadata": {
        "id": "59aXhRaMIkQE"
      },
      "source": [
        "## Correlation\n"
      ]
    },
    {
      "cell_type": "markdown",
      "metadata": {
        "id": "mRl82rn0IkQE"
      },
      "source": [
        "### Finding correlation\n"
      ]
    },
    {
      "cell_type": "markdown",
      "metadata": {
        "id": "Egmhlps4IkQE"
      },
      "source": [
        "Find the correlation between `Age` and all other numerical columns.\n"
      ]
    },
    {
      "cell_type": "code",
      "execution_count": null,
      "metadata": {
        "colab": {
          "base_uri": "https://localhost:8080/"
        },
        "id": "4foUnCZzIkQF",
        "outputId": "b07cd188-c11b-41fd-8b97-abd5bfefcd85"
      },
      "outputs": [
        {
          "output_type": "execute_result",
          "data": {
            "text/plain": [
              "Respondent       0.004041\n",
              "CompTotal        0.006970\n",
              "ConvertedComp    0.105386\n",
              "WorkWeekHrs      0.036518\n",
              "CodeRevHrs      -0.020469\n",
              "Age              1.000000\n",
              "Name: Age, dtype: float64"
            ]
          },
          "metadata": {},
          "execution_count": 27
        }
      ],
      "source": [
        "# your code goes here\n",
        "df.corr()['Age']"
      ]
    },
    {
      "cell_type": "markdown",
      "metadata": {
        "id": "GBSxHgy6IkQF"
      },
      "source": [
        "## Authors\n"
      ]
    },
    {
      "cell_type": "markdown",
      "metadata": {
        "id": "bJzGY5kAIkQF"
      },
      "source": [
        "Ramesh Sannareddy\n"
      ]
    },
    {
      "cell_type": "markdown",
      "metadata": {
        "id": "VKylstqWIkQG"
      },
      "source": [
        "### Other Contributors\n"
      ]
    },
    {
      "cell_type": "markdown",
      "metadata": {
        "id": "unqr4vmqIkQH"
      },
      "source": [
        "Rav Ahuja\n"
      ]
    },
    {
      "cell_type": "markdown",
      "metadata": {
        "id": "-IRUvb0mIkQH"
      },
      "source": [
        "## Change Log\n"
      ]
    },
    {
      "cell_type": "markdown",
      "metadata": {
        "id": "qhYydSJxIkQI"
      },
      "source": [
        "| Date (YYYY-MM-DD) | Version | Changed By        | Change Description                 |\n",
        "| ----------------- | ------- | ----------------- | ---------------------------------- |\n",
        "| 2020-10-17        | 0.1     | Ramesh Sannareddy | Created initial version of the lab |\n"
      ]
    },
    {
      "cell_type": "markdown",
      "metadata": {
        "id": "qeRSdofeIkQI"
      },
      "source": [
        "Copyright © 2020 IBM Corporation. This notebook and its source code are released under the terms of the [MIT License](https://cognitiveclass.ai/mit-license?utm_medium=Exinfluencer&utm_source=Exinfluencer&utm_content=000026UJ&utm_term=10006555&utm_id=NA-SkillsNetwork-Channel-SkillsNetworkCoursesIBMDA0321ENSkillsNetwork21426264-2022-01-01&cm_mmc=Email_Newsletter-\\_-Developer_Ed%2BTech-\\_-WW_WW-\\_-SkillsNetwork-Courses-IBM-DA0321EN-SkillsNetwork-21426264&cm_mmca1=000026UJ&cm_mmca2=10006555&cm_mmca3=M12345678&cvosrc=email.Newsletter.M12345678&cvo_campaign=000026UJ).\n"
      ]
    }
  ],
  "metadata": {
    "kernelspec": {
      "display_name": "Python 3",
      "language": "python",
      "name": "python3"
    },
    "language_info": {
      "codemirror_mode": {
        "name": "ipython",
        "version": 3
      },
      "file_extension": ".py",
      "mimetype": "text/x-python",
      "name": "python",
      "nbconvert_exporter": "python",
      "pygments_lexer": "ipython3",
      "version": "3.7.6"
    },
    "colab": {
      "name": "M3ExploratoryDataAnalysis-lab.ipynb",
      "provenance": [],
      "include_colab_link": true
    }
  },
  "nbformat": 4,
  "nbformat_minor": 0
}