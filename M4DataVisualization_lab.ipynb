{
  "cells": [
    {
      "cell_type": "markdown",
      "metadata": {
        "id": "view-in-github",
        "colab_type": "text"
      },
      "source": [
        "<a href=\"https://colab.research.google.com/github/TrustInGord/Capstone/blob/main/M4DataVisualization_lab.ipynb\" target=\"_parent\"><img src=\"https://colab.research.google.com/assets/colab-badge.svg\" alt=\"Open In Colab\"/></a>"
      ]
    },
    {
      "cell_type": "markdown",
      "metadata": {
        "id": "G2gAT2g6KiBW"
      },
      "source": [
        "<p style=\"text-align:center\">\n",
        "    <a href=\"https://skills.network/?utm_medium=Exinfluencer&utm_source=Exinfluencer&utm_content=000026UJ&utm_term=10006555&utm_id=NA-SkillsNetwork-Channel-SkillsNetworkCoursesIBMDA0321ENSkillsNetwork21426264-2022-01-01\" target=\"_blank\">\n",
        "    <img src=\"https://cf-courses-data.s3.us.cloud-object-storage.appdomain.cloud/assets/logos/SN_web_lightmode.png\" width=\"200\" alt=\"Skills Network Logo\"  />\n",
        "    </a>\n",
        "</p>\n"
      ]
    },
    {
      "cell_type": "markdown",
      "metadata": {
        "id": "rdS0-RDCKiBY"
      },
      "source": [
        "# **Data Visualization Lab**\n"
      ]
    },
    {
      "cell_type": "markdown",
      "metadata": {
        "id": "TVayLNdoKiBa"
      },
      "source": [
        "Estimated time needed: **45 to 60** minutes\n"
      ]
    },
    {
      "cell_type": "markdown",
      "metadata": {
        "id": "MQ7sgtmsKiBc"
      },
      "source": [
        "In this assignment you will be focusing on the visualization of data.\n",
        "\n",
        "The data set will be presented to you in the form of a RDBMS.\n",
        "\n",
        "You will have to use SQL queries to extract the data.\n"
      ]
    },
    {
      "cell_type": "markdown",
      "metadata": {
        "id": "1coD9kCtKiBd"
      },
      "source": [
        "## Objectives\n"
      ]
    },
    {
      "cell_type": "markdown",
      "metadata": {
        "id": "lIurjY20KiBe"
      },
      "source": [
        "In this lab you will perform the following:\n"
      ]
    },
    {
      "cell_type": "markdown",
      "metadata": {
        "id": "yxnSqaGuKiBf"
      },
      "source": [
        "*   Visualize the distribution of data.\n",
        "\n",
        "*   Visualize the relationship between two features.\n",
        "\n",
        "*   Visualize composition of data.\n",
        "\n",
        "*   Visualize comparison of data.\n"
      ]
    },
    {
      "cell_type": "markdown",
      "metadata": {
        "id": "kvDUjvJCKiBg"
      },
      "source": [
        "<hr>\n"
      ]
    },
    {
      "cell_type": "markdown",
      "metadata": {
        "id": "8n1VrXv2KiBh"
      },
      "source": [
        "## Demo: How to work with database\n"
      ]
    },
    {
      "cell_type": "markdown",
      "metadata": {
        "id": "M_3T9A7PKiBj"
      },
      "source": [
        "Download database file.\n"
      ]
    },
    {
      "cell_type": "code",
      "execution_count": null,
      "metadata": {
        "colab": {
          "base_uri": "https://localhost:8080/"
        },
        "id": "v1u0sElRKiBk",
        "outputId": "45ed7726-1b36-4193-bf71-5d124f67249f"
      },
      "outputs": [
        {
          "output_type": "stream",
          "name": "stdout",
          "text": [
            "--2022-08-21 16:09:29--  https://cf-courses-data.s3.us.cloud-object-storage.appdomain.cloud/IBM-DA0321EN-SkillsNetwork/LargeData/m4_survey_data.sqlite\n",
            "Resolving cf-courses-data.s3.us.cloud-object-storage.appdomain.cloud (cf-courses-data.s3.us.cloud-object-storage.appdomain.cloud)... 169.45.118.108\n",
            "Connecting to cf-courses-data.s3.us.cloud-object-storage.appdomain.cloud (cf-courses-data.s3.us.cloud-object-storage.appdomain.cloud)|169.45.118.108|:443... connected.\n",
            "HTTP request sent, awaiting response... 200 OK\n",
            "Length: 36679680 (35M) [application/octet-stream]\n",
            "Saving to: ‘m4_survey_data.sqlite’\n",
            "\n",
            "m4_survey_data.sqli 100%[===================>]  34.98M  26.4MB/s    in 1.3s    \n",
            "\n",
            "2022-08-21 16:09:31 (26.4 MB/s) - ‘m4_survey_data.sqlite’ saved [36679680/36679680]\n",
            "\n"
          ]
        }
      ],
      "source": [
        "!wget https://cf-courses-data.s3.us.cloud-object-storage.appdomain.cloud/IBM-DA0321EN-SkillsNetwork/LargeData/m4_survey_data.sqlite"
      ]
    },
    {
      "cell_type": "markdown",
      "metadata": {
        "id": "EdXvWmZ9KiBl"
      },
      "source": [
        "Connect to the database.\n"
      ]
    },
    {
      "cell_type": "code",
      "execution_count": null,
      "metadata": {
        "id": "donoKT2vKiBm"
      },
      "outputs": [],
      "source": [
        "import sqlite3\n",
        "conn = sqlite3.connect(\"m4_survey_data.sqlite\") # open a database connection"
      ]
    },
    {
      "cell_type": "markdown",
      "metadata": {
        "id": "p65pu1nBKiBm"
      },
      "source": [
        "Import pandas module.\n"
      ]
    },
    {
      "cell_type": "code",
      "execution_count": null,
      "metadata": {
        "id": "0BaHEcO5KiBo"
      },
      "outputs": [],
      "source": [
        "import pandas as pd"
      ]
    },
    {
      "cell_type": "markdown",
      "metadata": {
        "id": "B4aL-H1oKiBr"
      },
      "source": [
        "## Demo: How to run an sql query\n"
      ]
    },
    {
      "cell_type": "code",
      "execution_count": null,
      "metadata": {
        "colab": {
          "base_uri": "https://localhost:8080/",
          "height": 81
        },
        "id": "Uf3JaehyKiBs",
        "outputId": "e7222ab0-4c6e-4353-b58d-cb6aa81b9a6d"
      },
      "outputs": [
        {
          "output_type": "execute_result",
          "data": {
            "text/plain": [
              "   COUNT(*)\n",
              "0     11398"
            ],
            "text/html": [
              "\n",
              "  <div id=\"df-32937f05-fee7-47a3-9b72-5085106f829e\">\n",
              "    <div class=\"colab-df-container\">\n",
              "      <div>\n",
              "<style scoped>\n",
              "    .dataframe tbody tr th:only-of-type {\n",
              "        vertical-align: middle;\n",
              "    }\n",
              "\n",
              "    .dataframe tbody tr th {\n",
              "        vertical-align: top;\n",
              "    }\n",
              "\n",
              "    .dataframe thead th {\n",
              "        text-align: right;\n",
              "    }\n",
              "</style>\n",
              "<table border=\"1\" class=\"dataframe\">\n",
              "  <thead>\n",
              "    <tr style=\"text-align: right;\">\n",
              "      <th></th>\n",
              "      <th>COUNT(*)</th>\n",
              "    </tr>\n",
              "  </thead>\n",
              "  <tbody>\n",
              "    <tr>\n",
              "      <th>0</th>\n",
              "      <td>11398</td>\n",
              "    </tr>\n",
              "  </tbody>\n",
              "</table>\n",
              "</div>\n",
              "      <button class=\"colab-df-convert\" onclick=\"convertToInteractive('df-32937f05-fee7-47a3-9b72-5085106f829e')\"\n",
              "              title=\"Convert this dataframe to an interactive table.\"\n",
              "              style=\"display:none;\">\n",
              "        \n",
              "  <svg xmlns=\"http://www.w3.org/2000/svg\" height=\"24px\"viewBox=\"0 0 24 24\"\n",
              "       width=\"24px\">\n",
              "    <path d=\"M0 0h24v24H0V0z\" fill=\"none\"/>\n",
              "    <path d=\"M18.56 5.44l.94 2.06.94-2.06 2.06-.94-2.06-.94-.94-2.06-.94 2.06-2.06.94zm-11 1L8.5 8.5l.94-2.06 2.06-.94-2.06-.94L8.5 2.5l-.94 2.06-2.06.94zm10 10l.94 2.06.94-2.06 2.06-.94-2.06-.94-.94-2.06-.94 2.06-2.06.94z\"/><path d=\"M17.41 7.96l-1.37-1.37c-.4-.4-.92-.59-1.43-.59-.52 0-1.04.2-1.43.59L10.3 9.45l-7.72 7.72c-.78.78-.78 2.05 0 2.83L4 21.41c.39.39.9.59 1.41.59.51 0 1.02-.2 1.41-.59l7.78-7.78 2.81-2.81c.8-.78.8-2.07 0-2.86zM5.41 20L4 18.59l7.72-7.72 1.47 1.35L5.41 20z\"/>\n",
              "  </svg>\n",
              "      </button>\n",
              "      \n",
              "  <style>\n",
              "    .colab-df-container {\n",
              "      display:flex;\n",
              "      flex-wrap:wrap;\n",
              "      gap: 12px;\n",
              "    }\n",
              "\n",
              "    .colab-df-convert {\n",
              "      background-color: #E8F0FE;\n",
              "      border: none;\n",
              "      border-radius: 50%;\n",
              "      cursor: pointer;\n",
              "      display: none;\n",
              "      fill: #1967D2;\n",
              "      height: 32px;\n",
              "      padding: 0 0 0 0;\n",
              "      width: 32px;\n",
              "    }\n",
              "\n",
              "    .colab-df-convert:hover {\n",
              "      background-color: #E2EBFA;\n",
              "      box-shadow: 0px 1px 2px rgba(60, 64, 67, 0.3), 0px 1px 3px 1px rgba(60, 64, 67, 0.15);\n",
              "      fill: #174EA6;\n",
              "    }\n",
              "\n",
              "    [theme=dark] .colab-df-convert {\n",
              "      background-color: #3B4455;\n",
              "      fill: #D2E3FC;\n",
              "    }\n",
              "\n",
              "    [theme=dark] .colab-df-convert:hover {\n",
              "      background-color: #434B5C;\n",
              "      box-shadow: 0px 1px 3px 1px rgba(0, 0, 0, 0.15);\n",
              "      filter: drop-shadow(0px 1px 2px rgba(0, 0, 0, 0.3));\n",
              "      fill: #FFFFFF;\n",
              "    }\n",
              "  </style>\n",
              "\n",
              "      <script>\n",
              "        const buttonEl =\n",
              "          document.querySelector('#df-32937f05-fee7-47a3-9b72-5085106f829e button.colab-df-convert');\n",
              "        buttonEl.style.display =\n",
              "          google.colab.kernel.accessAllowed ? 'block' : 'none';\n",
              "\n",
              "        async function convertToInteractive(key) {\n",
              "          const element = document.querySelector('#df-32937f05-fee7-47a3-9b72-5085106f829e');\n",
              "          const dataTable =\n",
              "            await google.colab.kernel.invokeFunction('convertToInteractive',\n",
              "                                                     [key], {});\n",
              "          if (!dataTable) return;\n",
              "\n",
              "          const docLinkHtml = 'Like what you see? Visit the ' +\n",
              "            '<a target=\"_blank\" href=https://colab.research.google.com/notebooks/data_table.ipynb>data table notebook</a>'\n",
              "            + ' to learn more about interactive tables.';\n",
              "          element.innerHTML = '';\n",
              "          dataTable['output_type'] = 'display_data';\n",
              "          await google.colab.output.renderOutput(dataTable, element);\n",
              "          const docLink = document.createElement('div');\n",
              "          docLink.innerHTML = docLinkHtml;\n",
              "          element.appendChild(docLink);\n",
              "        }\n",
              "      </script>\n",
              "    </div>\n",
              "  </div>\n",
              "  "
            ]
          },
          "metadata": {},
          "execution_count": 4
        }
      ],
      "source": [
        "# print how many rows are there in the table named 'master'\n",
        "QUERY = \"\"\"\n",
        "SELECT COUNT(*)\n",
        "FROM master\n",
        "\"\"\"\n",
        "\n",
        "# the read_sql_query runs the sql query and returns the data as a dataframe\n",
        "df = pd.read_sql_query(QUERY,conn)\n",
        "df.head()"
      ]
    },
    {
      "cell_type": "markdown",
      "metadata": {
        "id": "quNwmqdiKiBs"
      },
      "source": [
        "## Demo: How to list all tables\n"
      ]
    },
    {
      "cell_type": "code",
      "execution_count": null,
      "metadata": {
        "scrolled": true,
        "colab": {
          "base_uri": "https://localhost:8080/",
          "height": 802
        },
        "id": "XL-B2jSJKiBt",
        "outputId": "53e34358-65a7-4200-e1d7-1d630bcbd223"
      },
      "outputs": [
        {
          "output_type": "execute_result",
          "data": {
            "text/plain": [
              "                Table_Name\n",
              "0                 EduOther\n",
              "1                  DevType\n",
              "2                  LastInt\n",
              "3               JobFactors\n",
              "4                 WorkPlan\n",
              "5            WorkChallenge\n",
              "6       LanguageWorkedWith\n",
              "7   LanguageDesireNextYear\n",
              "8       DatabaseWorkedWith\n",
              "9   DatabaseDesireNextYear\n",
              "10      PlatformWorkedWith\n",
              "11  PlatformDesireNextYear\n",
              "12      WebFrameWorkedWith\n",
              "13  WebFrameDesireNextYear\n",
              "14      MiscTechWorkedWith\n",
              "15  MiscTechDesireNextYear\n",
              "16              DevEnviron\n",
              "17              Containers\n",
              "18               SOVisitTo\n",
              "19            SONewContent\n",
              "20                  Gender\n",
              "21               Sexuality\n",
              "22               Ethnicity\n",
              "23                  master"
            ],
            "text/html": [
              "\n",
              "  <div id=\"df-f2b07a3a-ab19-4b25-96b9-b9cf4caa5b24\">\n",
              "    <div class=\"colab-df-container\">\n",
              "      <div>\n",
              "<style scoped>\n",
              "    .dataframe tbody tr th:only-of-type {\n",
              "        vertical-align: middle;\n",
              "    }\n",
              "\n",
              "    .dataframe tbody tr th {\n",
              "        vertical-align: top;\n",
              "    }\n",
              "\n",
              "    .dataframe thead th {\n",
              "        text-align: right;\n",
              "    }\n",
              "</style>\n",
              "<table border=\"1\" class=\"dataframe\">\n",
              "  <thead>\n",
              "    <tr style=\"text-align: right;\">\n",
              "      <th></th>\n",
              "      <th>Table_Name</th>\n",
              "    </tr>\n",
              "  </thead>\n",
              "  <tbody>\n",
              "    <tr>\n",
              "      <th>0</th>\n",
              "      <td>EduOther</td>\n",
              "    </tr>\n",
              "    <tr>\n",
              "      <th>1</th>\n",
              "      <td>DevType</td>\n",
              "    </tr>\n",
              "    <tr>\n",
              "      <th>2</th>\n",
              "      <td>LastInt</td>\n",
              "    </tr>\n",
              "    <tr>\n",
              "      <th>3</th>\n",
              "      <td>JobFactors</td>\n",
              "    </tr>\n",
              "    <tr>\n",
              "      <th>4</th>\n",
              "      <td>WorkPlan</td>\n",
              "    </tr>\n",
              "    <tr>\n",
              "      <th>5</th>\n",
              "      <td>WorkChallenge</td>\n",
              "    </tr>\n",
              "    <tr>\n",
              "      <th>6</th>\n",
              "      <td>LanguageWorkedWith</td>\n",
              "    </tr>\n",
              "    <tr>\n",
              "      <th>7</th>\n",
              "      <td>LanguageDesireNextYear</td>\n",
              "    </tr>\n",
              "    <tr>\n",
              "      <th>8</th>\n",
              "      <td>DatabaseWorkedWith</td>\n",
              "    </tr>\n",
              "    <tr>\n",
              "      <th>9</th>\n",
              "      <td>DatabaseDesireNextYear</td>\n",
              "    </tr>\n",
              "    <tr>\n",
              "      <th>10</th>\n",
              "      <td>PlatformWorkedWith</td>\n",
              "    </tr>\n",
              "    <tr>\n",
              "      <th>11</th>\n",
              "      <td>PlatformDesireNextYear</td>\n",
              "    </tr>\n",
              "    <tr>\n",
              "      <th>12</th>\n",
              "      <td>WebFrameWorkedWith</td>\n",
              "    </tr>\n",
              "    <tr>\n",
              "      <th>13</th>\n",
              "      <td>WebFrameDesireNextYear</td>\n",
              "    </tr>\n",
              "    <tr>\n",
              "      <th>14</th>\n",
              "      <td>MiscTechWorkedWith</td>\n",
              "    </tr>\n",
              "    <tr>\n",
              "      <th>15</th>\n",
              "      <td>MiscTechDesireNextYear</td>\n",
              "    </tr>\n",
              "    <tr>\n",
              "      <th>16</th>\n",
              "      <td>DevEnviron</td>\n",
              "    </tr>\n",
              "    <tr>\n",
              "      <th>17</th>\n",
              "      <td>Containers</td>\n",
              "    </tr>\n",
              "    <tr>\n",
              "      <th>18</th>\n",
              "      <td>SOVisitTo</td>\n",
              "    </tr>\n",
              "    <tr>\n",
              "      <th>19</th>\n",
              "      <td>SONewContent</td>\n",
              "    </tr>\n",
              "    <tr>\n",
              "      <th>20</th>\n",
              "      <td>Gender</td>\n",
              "    </tr>\n",
              "    <tr>\n",
              "      <th>21</th>\n",
              "      <td>Sexuality</td>\n",
              "    </tr>\n",
              "    <tr>\n",
              "      <th>22</th>\n",
              "      <td>Ethnicity</td>\n",
              "    </tr>\n",
              "    <tr>\n",
              "      <th>23</th>\n",
              "      <td>master</td>\n",
              "    </tr>\n",
              "  </tbody>\n",
              "</table>\n",
              "</div>\n",
              "      <button class=\"colab-df-convert\" onclick=\"convertToInteractive('df-f2b07a3a-ab19-4b25-96b9-b9cf4caa5b24')\"\n",
              "              title=\"Convert this dataframe to an interactive table.\"\n",
              "              style=\"display:none;\">\n",
              "        \n",
              "  <svg xmlns=\"http://www.w3.org/2000/svg\" height=\"24px\"viewBox=\"0 0 24 24\"\n",
              "       width=\"24px\">\n",
              "    <path d=\"M0 0h24v24H0V0z\" fill=\"none\"/>\n",
              "    <path d=\"M18.56 5.44l.94 2.06.94-2.06 2.06-.94-2.06-.94-.94-2.06-.94 2.06-2.06.94zm-11 1L8.5 8.5l.94-2.06 2.06-.94-2.06-.94L8.5 2.5l-.94 2.06-2.06.94zm10 10l.94 2.06.94-2.06 2.06-.94-2.06-.94-.94-2.06-.94 2.06-2.06.94z\"/><path d=\"M17.41 7.96l-1.37-1.37c-.4-.4-.92-.59-1.43-.59-.52 0-1.04.2-1.43.59L10.3 9.45l-7.72 7.72c-.78.78-.78 2.05 0 2.83L4 21.41c.39.39.9.59 1.41.59.51 0 1.02-.2 1.41-.59l7.78-7.78 2.81-2.81c.8-.78.8-2.07 0-2.86zM5.41 20L4 18.59l7.72-7.72 1.47 1.35L5.41 20z\"/>\n",
              "  </svg>\n",
              "      </button>\n",
              "      \n",
              "  <style>\n",
              "    .colab-df-container {\n",
              "      display:flex;\n",
              "      flex-wrap:wrap;\n",
              "      gap: 12px;\n",
              "    }\n",
              "\n",
              "    .colab-df-convert {\n",
              "      background-color: #E8F0FE;\n",
              "      border: none;\n",
              "      border-radius: 50%;\n",
              "      cursor: pointer;\n",
              "      display: none;\n",
              "      fill: #1967D2;\n",
              "      height: 32px;\n",
              "      padding: 0 0 0 0;\n",
              "      width: 32px;\n",
              "    }\n",
              "\n",
              "    .colab-df-convert:hover {\n",
              "      background-color: #E2EBFA;\n",
              "      box-shadow: 0px 1px 2px rgba(60, 64, 67, 0.3), 0px 1px 3px 1px rgba(60, 64, 67, 0.15);\n",
              "      fill: #174EA6;\n",
              "    }\n",
              "\n",
              "    [theme=dark] .colab-df-convert {\n",
              "      background-color: #3B4455;\n",
              "      fill: #D2E3FC;\n",
              "    }\n",
              "\n",
              "    [theme=dark] .colab-df-convert:hover {\n",
              "      background-color: #434B5C;\n",
              "      box-shadow: 0px 1px 3px 1px rgba(0, 0, 0, 0.15);\n",
              "      filter: drop-shadow(0px 1px 2px rgba(0, 0, 0, 0.3));\n",
              "      fill: #FFFFFF;\n",
              "    }\n",
              "  </style>\n",
              "\n",
              "      <script>\n",
              "        const buttonEl =\n",
              "          document.querySelector('#df-f2b07a3a-ab19-4b25-96b9-b9cf4caa5b24 button.colab-df-convert');\n",
              "        buttonEl.style.display =\n",
              "          google.colab.kernel.accessAllowed ? 'block' : 'none';\n",
              "\n",
              "        async function convertToInteractive(key) {\n",
              "          const element = document.querySelector('#df-f2b07a3a-ab19-4b25-96b9-b9cf4caa5b24');\n",
              "          const dataTable =\n",
              "            await google.colab.kernel.invokeFunction('convertToInteractive',\n",
              "                                                     [key], {});\n",
              "          if (!dataTable) return;\n",
              "\n",
              "          const docLinkHtml = 'Like what you see? Visit the ' +\n",
              "            '<a target=\"_blank\" href=https://colab.research.google.com/notebooks/data_table.ipynb>data table notebook</a>'\n",
              "            + ' to learn more about interactive tables.';\n",
              "          element.innerHTML = '';\n",
              "          dataTable['output_type'] = 'display_data';\n",
              "          await google.colab.output.renderOutput(dataTable, element);\n",
              "          const docLink = document.createElement('div');\n",
              "          docLink.innerHTML = docLinkHtml;\n",
              "          element.appendChild(docLink);\n",
              "        }\n",
              "      </script>\n",
              "    </div>\n",
              "  </div>\n",
              "  "
            ]
          },
          "metadata": {},
          "execution_count": 5
        }
      ],
      "source": [
        "# print all the tables names in the database\n",
        "QUERY = \"\"\"\n",
        "SELECT name as Table_Name FROM\n",
        "sqlite_master WHERE\n",
        "type = 'table'\n",
        "\"\"\"\n",
        "# the read_sql_query runs the sql query and returns the data as a dataframe\n",
        "pd.read_sql_query(QUERY,conn)\n"
      ]
    },
    {
      "cell_type": "markdown",
      "metadata": {
        "id": "LRUHBIIqKiBt"
      },
      "source": [
        "## Demo: How to run a group by query\n"
      ]
    },
    {
      "cell_type": "code",
      "execution_count": null,
      "metadata": {
        "colab": {
          "base_uri": "https://localhost:8080/",
          "height": 1000
        },
        "id": "FJbD82q9KiBt",
        "outputId": "0bd4ddf8-275e-434f-ef37-d3814eb66a8e"
      },
      "outputs": [
        {
          "output_type": "execute_result",
          "data": {
            "text/plain": [
              "     Age  count\n",
              "0    NaN    287\n",
              "1   16.0      3\n",
              "2   17.0      6\n",
              "3   18.0     29\n",
              "4   19.0     78\n",
              "5   20.0    109\n",
              "6   21.0    203\n",
              "7   22.0    406\n",
              "8   23.0    581\n",
              "9   24.0    679\n",
              "10  25.0    738\n",
              "11  26.0    720\n",
              "12  27.0    724\n",
              "13  28.0    787\n",
              "14  29.0    697\n",
              "15  30.0    651\n",
              "16  31.0    531\n",
              "17  32.0    489\n",
              "18  33.0    483\n",
              "19  34.0    395\n",
              "20  35.0    393\n",
              "21  36.0    308\n",
              "22  37.0    280\n",
              "23  38.0    279\n",
              "24  39.0    232\n",
              "25  40.0    187\n",
              "26  41.0    136\n",
              "27  42.0    162\n",
              "28  43.0    100\n",
              "29  44.0     95\n",
              "30  45.0     85\n",
              "31  46.0     66\n",
              "32  47.0     68\n",
              "33  48.0     64\n",
              "34  49.0     66\n",
              "35  50.0     57\n",
              "36  51.0     29\n",
              "37  52.0     41\n",
              "38  53.0     32\n",
              "39  54.0     26\n",
              "40  55.0     13\n",
              "41  56.0     16\n",
              "42  57.0     11\n",
              "43  58.0     12\n",
              "44  59.0     11\n",
              "45  60.0      2\n",
              "46  61.0     10\n",
              "47  62.0      5\n",
              "48  63.0      7\n",
              "49  65.0      2\n",
              "50  66.0      1\n",
              "51  67.0      1\n",
              "52  69.0      1\n",
              "53  71.0      2\n",
              "54  72.0      1\n",
              "55  99.0      1"
            ],
            "text/html": [
              "\n",
              "  <div id=\"df-32265b09-e783-438b-9697-3548932841e4\">\n",
              "    <div class=\"colab-df-container\">\n",
              "      <div>\n",
              "<style scoped>\n",
              "    .dataframe tbody tr th:only-of-type {\n",
              "        vertical-align: middle;\n",
              "    }\n",
              "\n",
              "    .dataframe tbody tr th {\n",
              "        vertical-align: top;\n",
              "    }\n",
              "\n",
              "    .dataframe thead th {\n",
              "        text-align: right;\n",
              "    }\n",
              "</style>\n",
              "<table border=\"1\" class=\"dataframe\">\n",
              "  <thead>\n",
              "    <tr style=\"text-align: right;\">\n",
              "      <th></th>\n",
              "      <th>Age</th>\n",
              "      <th>count</th>\n",
              "    </tr>\n",
              "  </thead>\n",
              "  <tbody>\n",
              "    <tr>\n",
              "      <th>0</th>\n",
              "      <td>NaN</td>\n",
              "      <td>287</td>\n",
              "    </tr>\n",
              "    <tr>\n",
              "      <th>1</th>\n",
              "      <td>16.0</td>\n",
              "      <td>3</td>\n",
              "    </tr>\n",
              "    <tr>\n",
              "      <th>2</th>\n",
              "      <td>17.0</td>\n",
              "      <td>6</td>\n",
              "    </tr>\n",
              "    <tr>\n",
              "      <th>3</th>\n",
              "      <td>18.0</td>\n",
              "      <td>29</td>\n",
              "    </tr>\n",
              "    <tr>\n",
              "      <th>4</th>\n",
              "      <td>19.0</td>\n",
              "      <td>78</td>\n",
              "    </tr>\n",
              "    <tr>\n",
              "      <th>5</th>\n",
              "      <td>20.0</td>\n",
              "      <td>109</td>\n",
              "    </tr>\n",
              "    <tr>\n",
              "      <th>6</th>\n",
              "      <td>21.0</td>\n",
              "      <td>203</td>\n",
              "    </tr>\n",
              "    <tr>\n",
              "      <th>7</th>\n",
              "      <td>22.0</td>\n",
              "      <td>406</td>\n",
              "    </tr>\n",
              "    <tr>\n",
              "      <th>8</th>\n",
              "      <td>23.0</td>\n",
              "      <td>581</td>\n",
              "    </tr>\n",
              "    <tr>\n",
              "      <th>9</th>\n",
              "      <td>24.0</td>\n",
              "      <td>679</td>\n",
              "    </tr>\n",
              "    <tr>\n",
              "      <th>10</th>\n",
              "      <td>25.0</td>\n",
              "      <td>738</td>\n",
              "    </tr>\n",
              "    <tr>\n",
              "      <th>11</th>\n",
              "      <td>26.0</td>\n",
              "      <td>720</td>\n",
              "    </tr>\n",
              "    <tr>\n",
              "      <th>12</th>\n",
              "      <td>27.0</td>\n",
              "      <td>724</td>\n",
              "    </tr>\n",
              "    <tr>\n",
              "      <th>13</th>\n",
              "      <td>28.0</td>\n",
              "      <td>787</td>\n",
              "    </tr>\n",
              "    <tr>\n",
              "      <th>14</th>\n",
              "      <td>29.0</td>\n",
              "      <td>697</td>\n",
              "    </tr>\n",
              "    <tr>\n",
              "      <th>15</th>\n",
              "      <td>30.0</td>\n",
              "      <td>651</td>\n",
              "    </tr>\n",
              "    <tr>\n",
              "      <th>16</th>\n",
              "      <td>31.0</td>\n",
              "      <td>531</td>\n",
              "    </tr>\n",
              "    <tr>\n",
              "      <th>17</th>\n",
              "      <td>32.0</td>\n",
              "      <td>489</td>\n",
              "    </tr>\n",
              "    <tr>\n",
              "      <th>18</th>\n",
              "      <td>33.0</td>\n",
              "      <td>483</td>\n",
              "    </tr>\n",
              "    <tr>\n",
              "      <th>19</th>\n",
              "      <td>34.0</td>\n",
              "      <td>395</td>\n",
              "    </tr>\n",
              "    <tr>\n",
              "      <th>20</th>\n",
              "      <td>35.0</td>\n",
              "      <td>393</td>\n",
              "    </tr>\n",
              "    <tr>\n",
              "      <th>21</th>\n",
              "      <td>36.0</td>\n",
              "      <td>308</td>\n",
              "    </tr>\n",
              "    <tr>\n",
              "      <th>22</th>\n",
              "      <td>37.0</td>\n",
              "      <td>280</td>\n",
              "    </tr>\n",
              "    <tr>\n",
              "      <th>23</th>\n",
              "      <td>38.0</td>\n",
              "      <td>279</td>\n",
              "    </tr>\n",
              "    <tr>\n",
              "      <th>24</th>\n",
              "      <td>39.0</td>\n",
              "      <td>232</td>\n",
              "    </tr>\n",
              "    <tr>\n",
              "      <th>25</th>\n",
              "      <td>40.0</td>\n",
              "      <td>187</td>\n",
              "    </tr>\n",
              "    <tr>\n",
              "      <th>26</th>\n",
              "      <td>41.0</td>\n",
              "      <td>136</td>\n",
              "    </tr>\n",
              "    <tr>\n",
              "      <th>27</th>\n",
              "      <td>42.0</td>\n",
              "      <td>162</td>\n",
              "    </tr>\n",
              "    <tr>\n",
              "      <th>28</th>\n",
              "      <td>43.0</td>\n",
              "      <td>100</td>\n",
              "    </tr>\n",
              "    <tr>\n",
              "      <th>29</th>\n",
              "      <td>44.0</td>\n",
              "      <td>95</td>\n",
              "    </tr>\n",
              "    <tr>\n",
              "      <th>30</th>\n",
              "      <td>45.0</td>\n",
              "      <td>85</td>\n",
              "    </tr>\n",
              "    <tr>\n",
              "      <th>31</th>\n",
              "      <td>46.0</td>\n",
              "      <td>66</td>\n",
              "    </tr>\n",
              "    <tr>\n",
              "      <th>32</th>\n",
              "      <td>47.0</td>\n",
              "      <td>68</td>\n",
              "    </tr>\n",
              "    <tr>\n",
              "      <th>33</th>\n",
              "      <td>48.0</td>\n",
              "      <td>64</td>\n",
              "    </tr>\n",
              "    <tr>\n",
              "      <th>34</th>\n",
              "      <td>49.0</td>\n",
              "      <td>66</td>\n",
              "    </tr>\n",
              "    <tr>\n",
              "      <th>35</th>\n",
              "      <td>50.0</td>\n",
              "      <td>57</td>\n",
              "    </tr>\n",
              "    <tr>\n",
              "      <th>36</th>\n",
              "      <td>51.0</td>\n",
              "      <td>29</td>\n",
              "    </tr>\n",
              "    <tr>\n",
              "      <th>37</th>\n",
              "      <td>52.0</td>\n",
              "      <td>41</td>\n",
              "    </tr>\n",
              "    <tr>\n",
              "      <th>38</th>\n",
              "      <td>53.0</td>\n",
              "      <td>32</td>\n",
              "    </tr>\n",
              "    <tr>\n",
              "      <th>39</th>\n",
              "      <td>54.0</td>\n",
              "      <td>26</td>\n",
              "    </tr>\n",
              "    <tr>\n",
              "      <th>40</th>\n",
              "      <td>55.0</td>\n",
              "      <td>13</td>\n",
              "    </tr>\n",
              "    <tr>\n",
              "      <th>41</th>\n",
              "      <td>56.0</td>\n",
              "      <td>16</td>\n",
              "    </tr>\n",
              "    <tr>\n",
              "      <th>42</th>\n",
              "      <td>57.0</td>\n",
              "      <td>11</td>\n",
              "    </tr>\n",
              "    <tr>\n",
              "      <th>43</th>\n",
              "      <td>58.0</td>\n",
              "      <td>12</td>\n",
              "    </tr>\n",
              "    <tr>\n",
              "      <th>44</th>\n",
              "      <td>59.0</td>\n",
              "      <td>11</td>\n",
              "    </tr>\n",
              "    <tr>\n",
              "      <th>45</th>\n",
              "      <td>60.0</td>\n",
              "      <td>2</td>\n",
              "    </tr>\n",
              "    <tr>\n",
              "      <th>46</th>\n",
              "      <td>61.0</td>\n",
              "      <td>10</td>\n",
              "    </tr>\n",
              "    <tr>\n",
              "      <th>47</th>\n",
              "      <td>62.0</td>\n",
              "      <td>5</td>\n",
              "    </tr>\n",
              "    <tr>\n",
              "      <th>48</th>\n",
              "      <td>63.0</td>\n",
              "      <td>7</td>\n",
              "    </tr>\n",
              "    <tr>\n",
              "      <th>49</th>\n",
              "      <td>65.0</td>\n",
              "      <td>2</td>\n",
              "    </tr>\n",
              "    <tr>\n",
              "      <th>50</th>\n",
              "      <td>66.0</td>\n",
              "      <td>1</td>\n",
              "    </tr>\n",
              "    <tr>\n",
              "      <th>51</th>\n",
              "      <td>67.0</td>\n",
              "      <td>1</td>\n",
              "    </tr>\n",
              "    <tr>\n",
              "      <th>52</th>\n",
              "      <td>69.0</td>\n",
              "      <td>1</td>\n",
              "    </tr>\n",
              "    <tr>\n",
              "      <th>53</th>\n",
              "      <td>71.0</td>\n",
              "      <td>2</td>\n",
              "    </tr>\n",
              "    <tr>\n",
              "      <th>54</th>\n",
              "      <td>72.0</td>\n",
              "      <td>1</td>\n",
              "    </tr>\n",
              "    <tr>\n",
              "      <th>55</th>\n",
              "      <td>99.0</td>\n",
              "      <td>1</td>\n",
              "    </tr>\n",
              "  </tbody>\n",
              "</table>\n",
              "</div>\n",
              "      <button class=\"colab-df-convert\" onclick=\"convertToInteractive('df-32265b09-e783-438b-9697-3548932841e4')\"\n",
              "              title=\"Convert this dataframe to an interactive table.\"\n",
              "              style=\"display:none;\">\n",
              "        \n",
              "  <svg xmlns=\"http://www.w3.org/2000/svg\" height=\"24px\"viewBox=\"0 0 24 24\"\n",
              "       width=\"24px\">\n",
              "    <path d=\"M0 0h24v24H0V0z\" fill=\"none\"/>\n",
              "    <path d=\"M18.56 5.44l.94 2.06.94-2.06 2.06-.94-2.06-.94-.94-2.06-.94 2.06-2.06.94zm-11 1L8.5 8.5l.94-2.06 2.06-.94-2.06-.94L8.5 2.5l-.94 2.06-2.06.94zm10 10l.94 2.06.94-2.06 2.06-.94-2.06-.94-.94-2.06-.94 2.06-2.06.94z\"/><path d=\"M17.41 7.96l-1.37-1.37c-.4-.4-.92-.59-1.43-.59-.52 0-1.04.2-1.43.59L10.3 9.45l-7.72 7.72c-.78.78-.78 2.05 0 2.83L4 21.41c.39.39.9.59 1.41.59.51 0 1.02-.2 1.41-.59l7.78-7.78 2.81-2.81c.8-.78.8-2.07 0-2.86zM5.41 20L4 18.59l7.72-7.72 1.47 1.35L5.41 20z\"/>\n",
              "  </svg>\n",
              "      </button>\n",
              "      \n",
              "  <style>\n",
              "    .colab-df-container {\n",
              "      display:flex;\n",
              "      flex-wrap:wrap;\n",
              "      gap: 12px;\n",
              "    }\n",
              "\n",
              "    .colab-df-convert {\n",
              "      background-color: #E8F0FE;\n",
              "      border: none;\n",
              "      border-radius: 50%;\n",
              "      cursor: pointer;\n",
              "      display: none;\n",
              "      fill: #1967D2;\n",
              "      height: 32px;\n",
              "      padding: 0 0 0 0;\n",
              "      width: 32px;\n",
              "    }\n",
              "\n",
              "    .colab-df-convert:hover {\n",
              "      background-color: #E2EBFA;\n",
              "      box-shadow: 0px 1px 2px rgba(60, 64, 67, 0.3), 0px 1px 3px 1px rgba(60, 64, 67, 0.15);\n",
              "      fill: #174EA6;\n",
              "    }\n",
              "\n",
              "    [theme=dark] .colab-df-convert {\n",
              "      background-color: #3B4455;\n",
              "      fill: #D2E3FC;\n",
              "    }\n",
              "\n",
              "    [theme=dark] .colab-df-convert:hover {\n",
              "      background-color: #434B5C;\n",
              "      box-shadow: 0px 1px 3px 1px rgba(0, 0, 0, 0.15);\n",
              "      filter: drop-shadow(0px 1px 2px rgba(0, 0, 0, 0.3));\n",
              "      fill: #FFFFFF;\n",
              "    }\n",
              "  </style>\n",
              "\n",
              "      <script>\n",
              "        const buttonEl =\n",
              "          document.querySelector('#df-32265b09-e783-438b-9697-3548932841e4 button.colab-df-convert');\n",
              "        buttonEl.style.display =\n",
              "          google.colab.kernel.accessAllowed ? 'block' : 'none';\n",
              "\n",
              "        async function convertToInteractive(key) {\n",
              "          const element = document.querySelector('#df-32265b09-e783-438b-9697-3548932841e4');\n",
              "          const dataTable =\n",
              "            await google.colab.kernel.invokeFunction('convertToInteractive',\n",
              "                                                     [key], {});\n",
              "          if (!dataTable) return;\n",
              "\n",
              "          const docLinkHtml = 'Like what you see? Visit the ' +\n",
              "            '<a target=\"_blank\" href=https://colab.research.google.com/notebooks/data_table.ipynb>data table notebook</a>'\n",
              "            + ' to learn more about interactive tables.';\n",
              "          element.innerHTML = '';\n",
              "          dataTable['output_type'] = 'display_data';\n",
              "          await google.colab.output.renderOutput(dataTable, element);\n",
              "          const docLink = document.createElement('div');\n",
              "          docLink.innerHTML = docLinkHtml;\n",
              "          element.appendChild(docLink);\n",
              "        }\n",
              "      </script>\n",
              "    </div>\n",
              "  </div>\n",
              "  "
            ]
          },
          "metadata": {},
          "execution_count": 6
        }
      ],
      "source": [
        "QUERY = \"\"\"\n",
        "SELECT Age,COUNT(*) as count\n",
        "FROM master\n",
        "group by age\n",
        "order by age\n",
        "\"\"\"\n",
        "pd.read_sql_query(QUERY,conn)"
      ]
    },
    {
      "cell_type": "markdown",
      "metadata": {
        "id": "E98UZWvWKiBu"
      },
      "source": [
        "## Demo: How to describe a table\n"
      ]
    },
    {
      "cell_type": "code",
      "execution_count": null,
      "metadata": {
        "colab": {
          "base_uri": "https://localhost:8080/"
        },
        "id": "QtRNlqBoKiBu",
        "outputId": "daa0a94f-dd56-4fd0-8574-e494c34e3f9c"
      },
      "outputs": [
        {
          "output_type": "stream",
          "name": "stdout",
          "text": [
            "CREATE TABLE \"master\" (\n",
            "\"index\" INTEGER,\n",
            "  \"Respondent\" INTEGER,\n",
            "  \"MainBranch\" TEXT,\n",
            "  \"Hobbyist\" TEXT,\n",
            "  \"OpenSourcer\" TEXT,\n",
            "  \"OpenSource\" TEXT,\n",
            "  \"Employment\" TEXT,\n",
            "  \"Country\" TEXT,\n",
            "  \"Student\" TEXT,\n",
            "  \"EdLevel\" TEXT,\n",
            "  \"UndergradMajor\" TEXT,\n",
            "  \"OrgSize\" TEXT,\n",
            "  \"YearsCode\" TEXT,\n",
            "  \"Age1stCode\" TEXT,\n",
            "  \"YearsCodePro\" TEXT,\n",
            "  \"CareerSat\" TEXT,\n",
            "  \"JobSat\" TEXT,\n",
            "  \"MgrIdiot\" TEXT,\n",
            "  \"MgrMoney\" TEXT,\n",
            "  \"MgrWant\" TEXT,\n",
            "  \"JobSeek\" TEXT,\n",
            "  \"LastHireDate\" TEXT,\n",
            "  \"FizzBuzz\" TEXT,\n",
            "  \"ResumeUpdate\" TEXT,\n",
            "  \"CurrencySymbol\" TEXT,\n",
            "  \"CurrencyDesc\" TEXT,\n",
            "  \"CompTotal\" REAL,\n",
            "  \"CompFreq\" TEXT,\n",
            "  \"ConvertedComp\" REAL,\n",
            "  \"WorkWeekHrs\" REAL,\n",
            "  \"WorkRemote\" TEXT,\n",
            "  \"WorkLoc\" TEXT,\n",
            "  \"ImpSyn\" TEXT,\n",
            "  \"CodeRev\" TEXT,\n",
            "  \"CodeRevHrs\" REAL,\n",
            "  \"UnitTests\" TEXT,\n",
            "  \"PurchaseHow\" TEXT,\n",
            "  \"PurchaseWhat\" TEXT,\n",
            "  \"OpSys\" TEXT,\n",
            "  \"BlockchainOrg\" TEXT,\n",
            "  \"BlockchainIs\" TEXT,\n",
            "  \"BetterLife\" TEXT,\n",
            "  \"ITperson\" TEXT,\n",
            "  \"OffOn\" TEXT,\n",
            "  \"SocialMedia\" TEXT,\n",
            "  \"Extraversion\" TEXT,\n",
            "  \"ScreenName\" TEXT,\n",
            "  \"SOVisit1st\" TEXT,\n",
            "  \"SOVisitFreq\" TEXT,\n",
            "  \"SOFindAnswer\" TEXT,\n",
            "  \"SOTimeSaved\" TEXT,\n",
            "  \"SOHowMuchTime\" TEXT,\n",
            "  \"SOAccount\" TEXT,\n",
            "  \"SOPartFreq\" TEXT,\n",
            "  \"SOJobs\" TEXT,\n",
            "  \"EntTeams\" TEXT,\n",
            "  \"SOComm\" TEXT,\n",
            "  \"WelcomeChange\" TEXT,\n",
            "  \"Age\" REAL,\n",
            "  \"Trans\" TEXT,\n",
            "  \"Dependents\" TEXT,\n",
            "  \"SurveyLength\" TEXT,\n",
            "  \"SurveyEase\" TEXT\n",
            ")\n"
          ]
        }
      ],
      "source": [
        "table_name = 'master'  # the table you wish to describe\n",
        "\n",
        "QUERY = \"\"\"\n",
        "SELECT sql FROM sqlite_master\n",
        "WHERE name= '{}'\n",
        "\"\"\".format(table_name)\n",
        "\n",
        "df = pd.read_sql_query(QUERY,conn)\n",
        "print(df.iat[0,0])"
      ]
    },
    {
      "cell_type": "markdown",
      "metadata": {
        "id": "z61FAcYuKiBv"
      },
      "source": [
        "# Hands-on Lab\n"
      ]
    },
    {
      "cell_type": "markdown",
      "metadata": {
        "id": "buG46TLcKiBv"
      },
      "source": [
        "## Visualizing distribution of data\n"
      ]
    },
    {
      "cell_type": "markdown",
      "metadata": {
        "id": "7SJhP2YxKiBv"
      },
      "source": [
        "### Histograms\n"
      ]
    },
    {
      "cell_type": "markdown",
      "metadata": {
        "id": "x7SaSPKXKiBw"
      },
      "source": [
        "Plot a histogram of `ConvertedComp.`\n"
      ]
    },
    {
      "cell_type": "code",
      "execution_count": null,
      "metadata": {
        "id": "M-6d52k6KiBw"
      },
      "outputs": [],
      "source": [
        "# your code goes here\n",
        "import matplotlib.pyplot as plt\n",
        "%matplotlib inline\n",
        "import seaborn as sns"
      ]
    },
    {
      "cell_type": "code",
      "source": [
        "QUERY = \"\"\"\n",
        "SELECT ConvertedComp\n",
        "FROM master\n",
        "\"\"\"\n",
        "df = pd.read_sql_query(QUERY,conn)\n",
        "df.head()\n",
        "sns.distplot(df, 'ConvertedComp', hist = False, kde = True)\n",
        "\n",
        "plt.show()"
      ],
      "metadata": {
        "colab": {
          "base_uri": "https://localhost:8080/",
          "height": 344
        },
        "id": "o65w03-JK8w0",
        "outputId": "b63e6547-1ea6-4aff-e6d7-40b5d59cb256"
      },
      "execution_count": null,
      "outputs": [
        {
          "output_type": "stream",
          "name": "stderr",
          "text": [
            "/usr/local/lib/python3.7/dist-packages/seaborn/distributions.py:2619: FutureWarning: `distplot` is a deprecated function and will be removed in a future version. Please adapt your code to use either `displot` (a figure-level function with similar flexibility) or `kdeplot` (an axes-level function for kernel density plots).\n",
            "  warnings.warn(msg, FutureWarning)\n"
          ]
        },
        {
          "output_type": "display_data",
          "data": {
            "text/plain": [
              "<Figure size 432x288 with 1 Axes>"
            ],
            "image/png": "[encoded data removed]"
          },
          "metadata": {
            "needs_background": "light"
          }
        }
      ]
    },
    {
      "cell_type": "markdown",
      "metadata": {
        "id": "AJcGbKstKiBw"
      },
      "source": [
        "### Box Plots\n"
      ]
    },
    {
      "cell_type": "markdown",
      "metadata": {
        "id": "w-B0G8y2KiBx"
      },
      "source": [
        "Plot a box plot of `Age.`\n"
      ]
    },
    {
      "cell_type": "code",
      "execution_count": null,
      "metadata": {
        "colab": {
          "base_uri": "https://localhost:8080/",
          "height": 453
        },
        "id": "nKV3j6xSKiBx",
        "outputId": "ee25569f-7798-4700-e501-3db0b9ebce1e"
      },
      "outputs": [
        {
          "output_type": "stream",
          "name": "stderr",
          "text": [
            "/usr/local/lib/python3.7/dist-packages/seaborn/_decorators.py:43: FutureWarning: Pass the following variable as a keyword arg: x. From version 0.12, the only valid positional argument will be `data`, and passing other arguments without an explicit keyword will result in an error or misinterpretation.\n",
            "  FutureWarning\n"
          ]
        },
        {
          "output_type": "error",
          "ename": "ValueError",
          "evalue": "ignored",
          "traceback": [
            "\u001b[0;31m---------------------------------------------------------------------------\u001b[0m",
            "\u001b[0;31mValueError\u001b[0m                                Traceback (most recent call last)",
            "\u001b[0;32m<ipython-input-11-f05ca2f3d237>\u001b[0m in \u001b[0;36m<module>\u001b[0;34m\u001b[0m\n\u001b[1;32m      6\u001b[0m \u001b[0mdf\u001b[0m \u001b[0;34m=\u001b[0m \u001b[0mpd\u001b[0m\u001b[0;34m.\u001b[0m\u001b[0mread_sql_query\u001b[0m\u001b[0;34m(\u001b[0m\u001b[0mQUERY\u001b[0m\u001b[0;34m,\u001b[0m\u001b[0mconn\u001b[0m\u001b[0;34m)\u001b[0m\u001b[0;34m\u001b[0m\u001b[0;34m\u001b[0m\u001b[0m\n\u001b[1;32m      7\u001b[0m \u001b[0mdf\u001b[0m\u001b[0;34m.\u001b[0m\u001b[0mhead\u001b[0m\u001b[0;34m(\u001b[0m\u001b[0;34m)\u001b[0m\u001b[0;34m\u001b[0m\u001b[0;34m\u001b[0m\u001b[0m\n\u001b[0;32m----> 8\u001b[0;31m \u001b[0msns\u001b[0m\u001b[0;34m.\u001b[0m\u001b[0mboxplot\u001b[0m\u001b[0;34m(\u001b[0m\u001b[0mdf\u001b[0m\u001b[0;34m,\u001b[0m\u001b[0;34m)\u001b[0m\u001b[0;34m\u001b[0m\u001b[0;34m\u001b[0m\u001b[0m\n\u001b[0m\u001b[1;32m      9\u001b[0m \u001b[0;34m\u001b[0m\u001b[0m\n\u001b[1;32m     10\u001b[0m \u001b[0mplt\u001b[0m\u001b[0;34m.\u001b[0m\u001b[0mshow\u001b[0m\u001b[0;34m(\u001b[0m\u001b[0;34m)\u001b[0m\u001b[0;34m\u001b[0m\u001b[0;34m\u001b[0m\u001b[0m\n",
            "\u001b[0;32m/usr/local/lib/python3.7/dist-packages/seaborn/_decorators.py\u001b[0m in \u001b[0;36minner_f\u001b[0;34m(*args, **kwargs)\u001b[0m\n\u001b[1;32m     44\u001b[0m             )\n\u001b[1;32m     45\u001b[0m         \u001b[0mkwargs\u001b[0m\u001b[0;34m.\u001b[0m\u001b[0mupdate\u001b[0m\u001b[0;34m(\u001b[0m\u001b[0;34m{\u001b[0m\u001b[0mk\u001b[0m\u001b[0;34m:\u001b[0m \u001b[0marg\u001b[0m \u001b[0;32mfor\u001b[0m \u001b[0mk\u001b[0m\u001b[0;34m,\u001b[0m \u001b[0marg\u001b[0m \u001b[0;32min\u001b[0m \u001b[0mzip\u001b[0m\u001b[0;34m(\u001b[0m\u001b[0msig\u001b[0m\u001b[0;34m.\u001b[0m\u001b[0mparameters\u001b[0m\u001b[0;34m,\u001b[0m \u001b[0margs\u001b[0m\u001b[0;34m)\u001b[0m\u001b[0;34m}\u001b[0m\u001b[0;34m)\u001b[0m\u001b[0;34m\u001b[0m\u001b[0;34m\u001b[0m\u001b[0m\n\u001b[0;32m---> 46\u001b[0;31m         \u001b[0;32mreturn\u001b[0m \u001b[0mf\u001b[0m\u001b[0;34m(\u001b[0m\u001b[0;34m**\u001b[0m\u001b[0mkwargs\u001b[0m\u001b[0;34m)\u001b[0m\u001b[0;34m\u001b[0m\u001b[0;34m\u001b[0m\u001b[0m\n\u001b[0m\u001b[1;32m     47\u001b[0m     \u001b[0;32mreturn\u001b[0m \u001b[0minner_f\u001b[0m\u001b[0;34m\u001b[0m\u001b[0;34m\u001b[0m\u001b[0m\n\u001b[1;32m     48\u001b[0m \u001b[0;34m\u001b[0m\u001b[0m\n",
            "\u001b[0;32m/usr/local/lib/python3.7/dist-packages/seaborn/categorical.py\u001b[0m in \u001b[0;36mboxplot\u001b[0;34m(x, y, hue, data, order, hue_order, orient, color, palette, saturation, width, dodge, fliersize, linewidth, whis, ax, **kwargs)\u001b[0m\n\u001b[1;32m   2243\u001b[0m     plotter = _BoxPlotter(x, y, hue, data, order, hue_order,\n\u001b[1;32m   2244\u001b[0m                           \u001b[0morient\u001b[0m\u001b[0;34m,\u001b[0m \u001b[0mcolor\u001b[0m\u001b[0;34m,\u001b[0m \u001b[0mpalette\u001b[0m\u001b[0;34m,\u001b[0m \u001b[0msaturation\u001b[0m\u001b[0;34m,\u001b[0m\u001b[0;34m\u001b[0m\u001b[0;34m\u001b[0m\u001b[0m\n\u001b[0;32m-> 2245\u001b[0;31m                           width, dodge, fliersize, linewidth)\n\u001b[0m\u001b[1;32m   2246\u001b[0m \u001b[0;34m\u001b[0m\u001b[0m\n\u001b[1;32m   2247\u001b[0m     \u001b[0;32mif\u001b[0m \u001b[0max\u001b[0m \u001b[0;32mis\u001b[0m \u001b[0;32mNone\u001b[0m\u001b[0;34m:\u001b[0m\u001b[0;34m\u001b[0m\u001b[0;34m\u001b[0m\u001b[0m\n",
            "\u001b[0;32m/usr/local/lib/python3.7/dist-packages/seaborn/categorical.py\u001b[0m in \u001b[0;36m__init__\u001b[0;34m(self, x, y, hue, data, order, hue_order, orient, color, palette, saturation, width, dodge, fliersize, linewidth)\u001b[0m\n\u001b[1;32m    404\u001b[0m                  width, dodge, fliersize, linewidth):\n\u001b[1;32m    405\u001b[0m \u001b[0;34m\u001b[0m\u001b[0m\n\u001b[0;32m--> 406\u001b[0;31m         \u001b[0mself\u001b[0m\u001b[0;34m.\u001b[0m\u001b[0mestablish_variables\u001b[0m\u001b[0;34m(\u001b[0m\u001b[0mx\u001b[0m\u001b[0;34m,\u001b[0m \u001b[0my\u001b[0m\u001b[0;34m,\u001b[0m \u001b[0mhue\u001b[0m\u001b[0;34m,\u001b[0m \u001b[0mdata\u001b[0m\u001b[0;34m,\u001b[0m \u001b[0morient\u001b[0m\u001b[0;34m,\u001b[0m \u001b[0morder\u001b[0m\u001b[0;34m,\u001b[0m \u001b[0mhue_order\u001b[0m\u001b[0;34m)\u001b[0m\u001b[0;34m\u001b[0m\u001b[0;34m\u001b[0m\u001b[0m\n\u001b[0m\u001b[1;32m    407\u001b[0m         \u001b[0mself\u001b[0m\u001b[0;34m.\u001b[0m\u001b[0mestablish_colors\u001b[0m\u001b[0;34m(\u001b[0m\u001b[0mcolor\u001b[0m\u001b[0;34m,\u001b[0m \u001b[0mpalette\u001b[0m\u001b[0;34m,\u001b[0m \u001b[0msaturation\u001b[0m\u001b[0;34m)\u001b[0m\u001b[0;34m\u001b[0m\u001b[0;34m\u001b[0m\u001b[0m\n\u001b[1;32m    408\u001b[0m \u001b[0;34m\u001b[0m\u001b[0m\n",
            "\u001b[0;32m/usr/local/lib/python3.7/dist-packages/seaborn/categorical.py\u001b[0m in \u001b[0;36mestablish_variables\u001b[0;34m(self, x, y, hue, data, orient, order, hue_order, units)\u001b[0m\n\u001b[1;32m    155\u001b[0m             \u001b[0;31m# Figure out the plotting orientation\u001b[0m\u001b[0;34m\u001b[0m\u001b[0;34m\u001b[0m\u001b[0;34m\u001b[0m\u001b[0m\n\u001b[1;32m    156\u001b[0m             orient = infer_orient(\n\u001b[0;32m--> 157\u001b[0;31m                 \u001b[0mx\u001b[0m\u001b[0;34m,\u001b[0m \u001b[0my\u001b[0m\u001b[0;34m,\u001b[0m \u001b[0morient\u001b[0m\u001b[0;34m,\u001b[0m \u001b[0mrequire_numeric\u001b[0m\u001b[0;34m=\u001b[0m\u001b[0mself\u001b[0m\u001b[0;34m.\u001b[0m\u001b[0mrequire_numeric\u001b[0m\u001b[0;34m\u001b[0m\u001b[0;34m\u001b[0m\u001b[0m\n\u001b[0m\u001b[1;32m    158\u001b[0m             )\n\u001b[1;32m    159\u001b[0m \u001b[0;34m\u001b[0m\u001b[0m\n",
            "\u001b[0;32m/usr/local/lib/python3.7/dist-packages/seaborn/_core.py\u001b[0m in \u001b[0;36minfer_orient\u001b[0;34m(x, y, orient, require_numeric)\u001b[0m\n\u001b[1;32m   1309\u001b[0m     \"\"\"\n\u001b[1;32m   1310\u001b[0m \u001b[0;34m\u001b[0m\u001b[0m\n\u001b[0;32m-> 1311\u001b[0;31m     \u001b[0mx_type\u001b[0m \u001b[0;34m=\u001b[0m \u001b[0;32mNone\u001b[0m \u001b[0;32mif\u001b[0m \u001b[0mx\u001b[0m \u001b[0;32mis\u001b[0m \u001b[0;32mNone\u001b[0m \u001b[0;32melse\u001b[0m \u001b[0mvariable_type\u001b[0m\u001b[0;34m(\u001b[0m\u001b[0mx\u001b[0m\u001b[0;34m)\u001b[0m\u001b[0;34m\u001b[0m\u001b[0;34m\u001b[0m\u001b[0m\n\u001b[0m\u001b[1;32m   1312\u001b[0m     \u001b[0my_type\u001b[0m \u001b[0;34m=\u001b[0m \u001b[0;32mNone\u001b[0m \u001b[0;32mif\u001b[0m \u001b[0my\u001b[0m \u001b[0;32mis\u001b[0m \u001b[0;32mNone\u001b[0m \u001b[0;32melse\u001b[0m \u001b[0mvariable_type\u001b[0m\u001b[0;34m(\u001b[0m\u001b[0my\u001b[0m\u001b[0;34m)\u001b[0m\u001b[0;34m\u001b[0m\u001b[0;34m\u001b[0m\u001b[0m\n\u001b[1;32m   1313\u001b[0m \u001b[0;34m\u001b[0m\u001b[0m\n",
            "\u001b[0;32m/usr/local/lib/python3.7/dist-packages/seaborn/_core.py\u001b[0m in \u001b[0;36mvariable_type\u001b[0;34m(vector, boolean_type)\u001b[0m\n\u001b[1;32m   1227\u001b[0m \u001b[0;34m\u001b[0m\u001b[0m\n\u001b[1;32m   1228\u001b[0m     \u001b[0;31m# Special-case all-na data, which is always \"numeric\"\u001b[0m\u001b[0;34m\u001b[0m\u001b[0;34m\u001b[0m\u001b[0;34m\u001b[0m\u001b[0m\n\u001b[0;32m-> 1229\u001b[0;31m     \u001b[0;32mif\u001b[0m \u001b[0mpd\u001b[0m\u001b[0;34m.\u001b[0m\u001b[0misna\u001b[0m\u001b[0;34m(\u001b[0m\u001b[0mvector\u001b[0m\u001b[0;34m)\u001b[0m\u001b[0;34m.\u001b[0m\u001b[0mall\u001b[0m\u001b[0;34m(\u001b[0m\u001b[0;34m)\u001b[0m\u001b[0;34m:\u001b[0m\u001b[0;34m\u001b[0m\u001b[0;34m\u001b[0m\u001b[0m\n\u001b[0m\u001b[1;32m   1230\u001b[0m         \u001b[0;32mreturn\u001b[0m \u001b[0;34m\"numeric\"\u001b[0m\u001b[0;34m\u001b[0m\u001b[0;34m\u001b[0m\u001b[0m\n\u001b[1;32m   1231\u001b[0m \u001b[0;34m\u001b[0m\u001b[0m\n",
            "\u001b[0;32m/usr/local/lib/python3.7/dist-packages/pandas/core/generic.py\u001b[0m in \u001b[0;36m__nonzero__\u001b[0;34m(self)\u001b[0m\n\u001b[1;32m   1536\u001b[0m     \u001b[0;32mdef\u001b[0m \u001b[0m__nonzero__\u001b[0m\u001b[0;34m(\u001b[0m\u001b[0mself\u001b[0m\u001b[0;34m)\u001b[0m\u001b[0;34m:\u001b[0m\u001b[0;34m\u001b[0m\u001b[0;34m\u001b[0m\u001b[0m\n\u001b[1;32m   1537\u001b[0m         raise ValueError(\n\u001b[0;32m-> 1538\u001b[0;31m             \u001b[0;34mf\"The truth value of a {type(self).__name__} is ambiguous. \"\u001b[0m\u001b[0;34m\u001b[0m\u001b[0;34m\u001b[0m\u001b[0m\n\u001b[0m\u001b[1;32m   1539\u001b[0m             \u001b[0;34m\"Use a.empty, a.bool(), a.item(), a.any() or a.all().\"\u001b[0m\u001b[0;34m\u001b[0m\u001b[0;34m\u001b[0m\u001b[0m\n\u001b[1;32m   1540\u001b[0m         )\n",
            "\u001b[0;31mValueError\u001b[0m: The truth value of a Series is ambiguous. Use a.empty, a.bool(), a.item(), a.any() or a.all()."
          ]
        }
      ],
      "source": [
        "# your code goes here\n",
        "QUERY = \"\"\"\n",
        "SELECT Age\n",
        "FROM master\n",
        "\"\"\"\n",
        "df = pd.read_sql_query(QUERY,conn)\n",
        "df.head()\n",
        "sns.boxplot(df,)\n",
        "\n",
        "plt.show()\n"
      ]
    },
    {
      "cell_type": "markdown",
      "metadata": {
        "id": "1879NnX8KiBx"
      },
      "source": [
        "## Visualizing relationships in data\n"
      ]
    },
    {
      "cell_type": "markdown",
      "metadata": {
        "id": "RKrTrYMJKiBx"
      },
      "source": [
        "### Scatter Plots\n"
      ]
    },
    {
      "cell_type": "markdown",
      "metadata": {
        "id": "CSO6YVvhKiBy"
      },
      "source": [
        "Create a scatter plot of `Age` and `WorkWeekHrs.`\n"
      ]
    },
    {
      "cell_type": "code",
      "execution_count": null,
      "metadata": {
        "colab": {
          "base_uri": "https://localhost:8080/",
          "height": 283
        },
        "id": "FqIZwQawKiB0",
        "outputId": "a7faaad4-cedf-4b01-b205-87ee84a5b9ad"
      },
      "outputs": [
        {
          "output_type": "display_data",
          "data": {
            "text/plain": [
              "<Figure size 432x288 with 1 Axes>"
            ],
            "image/png": "[encoded data removed]"
          },
          "metadata": {
            "needs_background": "light"
          }
        }
      ],
      "source": [
        "# your code goes here\n",
        "QUERY = \"\"\"\n",
        "SELECT Age, WorkWeekHrs\n",
        "FROM master\n",
        "\"\"\"\n",
        "df = pd.read_sql_query(QUERY,conn)\n",
        "df.head()\n",
        "\n",
        "# Age as potential predictor variable of WorkWeekHrs\n",
        "sns.regplot(x=\"Age\", y=\"WorkWeekHrs\", data=df)\n",
        "plt.ylim(0,200)\n",
        "plt.xlim(0,80)\n",
        "\n",
        "plt.show()"
      ]
    },
    {
      "cell_type": "markdown",
      "metadata": {
        "id": "oGMzgklPKiB1"
      },
      "source": [
        "### Bubble Plots\n"
      ]
    },
    {
      "cell_type": "markdown",
      "metadata": {
        "id": "6HzIUd33KiB1"
      },
      "source": [
        "Create a bubble plot of `WorkWeekHrs` and `CodeRevHrs`, use `Age` column as bubble size.\n"
      ]
    },
    {
      "cell_type": "code",
      "execution_count": null,
      "metadata": {
        "colab": {
          "base_uri": "https://localhost:8080/"
        },
        "id": "Jc2uvtf8KiB1",
        "outputId": "24d86389-09fb-474d-9ca0-08001c474cae"
      },
      "outputs": [
        {
          "output_type": "stream",
          "name": "stdout",
          "text": [
            "Matplotlib version:  3.2.2\n"
          ]
        }
      ],
      "source": [
        "%matplotlib inline\n",
        "\n",
        "import matplotlib as mpl\n",
        "import matplotlib.pyplot as plt\n",
        "\n",
        "mpl.style.use('ggplot') # optional: for ggplot-like style\n",
        "\n",
        "# check for latest version of Matplotlib\n",
        "print('Matplotlib version: ', mpl.__version__) # >= 2.0.0"
      ]
    },
    {
      "cell_type": "code",
      "source": [
        "# your code goes here\n",
        "QUERY = \"\"\"\n",
        "SELECT Age, WorkWeekHrs, CodeRevHrs\n",
        "FROM master\n",
        "\"\"\"\n",
        "df = pd.read_sql_query(QUERY,conn)\n",
        "df.head()\n",
        "\n",
        "ax = df.plot(kind='scatter', x='WorkWeekHrs', y='CodeRevHrs', figsize=(10, 6), color='darkblue')\n",
        "\n",
        "plt.title('Age Bubbles on Code Revision Hours and Work Week Hours')\n",
        "plt.xlabel('WorkWeekHrs')\n",
        "plt.ylabel('CodeRevHrs')\n",
        "plt.xlim(0,200)\n",
        "#plt.ylim(0,70)\n",
        "\n",
        "#sns.regplot(x=\"WorkWeekHrs\", y=\"CodeRevHrs\", data=df)\n",
        "\n",
        "\n",
        "\n",
        "# normalize Age data\n",
        "norm_age = (df['Age'] - df['Age'].min()) / (df['Age'].max() - df['Age'].min())\n",
        "\n",
        "# Age\n",
        "ax = df.plot(kind='scatter', \n",
        "                    x='WorkWeekHrs',\n",
        "                    y='CodeRevHrs',\n",
        "                    alpha=0.5,\n",
        "                    color=\"blue\",\n",
        "                    s=norm_age * 1000 + 10,\n",
        "                    ax = ax\n",
        "                   )\n",
        "\n",
        "ax.set_ylabel('Code Revision Hours')\n",
        "ax.set_title('Age Bubbles on Code Revision Hours and Work Week Hours')\n",
        "\n",
        "plt.show()"
      ],
      "metadata": {
        "colab": {
          "base_uri": "https://localhost:8080/",
          "height": 408
        },
        "id": "XtJ9zbDELafa",
        "outputId": "806fae98-2718-4c4b-f561-7aadf6fb0656"
      },
      "execution_count": null,
      "outputs": [
        {
          "output_type": "display_data",
          "data": {
            "text/plain": [
              "<Figure size 720x432 with 1 Axes>"
            ],
            "image/png": "[encoded data removed]"
          },
          "metadata": {}
        }
      ]
    },
    {
      "cell_type": "markdown",
      "metadata": {
        "id": "iVkyHAi2KiB2"
      },
      "source": [
        "## Visualizing composition of data\n"
      ]
    },
    {
      "cell_type": "markdown",
      "metadata": {
        "id": "GKUK3oiyKiB2"
      },
      "source": [
        "### Pie Charts\n"
      ]
    },
    {
      "cell_type": "markdown",
      "metadata": {
        "id": "7y3KXOp9KiB2"
      },
      "source": [
        "Create a pie chart of the top 5 databases that respondents wish to learn next year. Label the pie chart with database names. Display percentages of each database on the pie chart.\n"
      ]
    },
    {
      "cell_type": "code",
      "execution_count": null,
      "metadata": {
        "colab": {
          "base_uri": "https://localhost:8080/",
          "height": 548
        },
        "id": "7AkwZ03PKiB2",
        "outputId": "1b9e250f-e397-4ee0-8edb-98f0ccfd3165"
      },
      "outputs": [
        {
          "output_type": "stream",
          "name": "stdout",
          "text": [
            "CREATE TABLE \"DatabaseDesireNextYear\" (\n",
            "\"Respondent\" INTEGER,\n",
            "  \"DatabaseDesireNextYear\" TEXT\n",
            ")\n",
            "   DatabaseDesireNextYear  Count    percent\n",
            "11             PostgreSQL   4328  24.809401\n",
            "7                 MongoDB   3649  20.917168\n",
            "12                  Redis   3331  19.094296\n",
            "8                   MySQL   3281  18.807681\n",
            "3           Elasticsearch   2856  16.371453\n"
          ]
        },
        {
          "output_type": "display_data",
          "data": {
            "text/plain": [
              "<Figure size 360x432 with 1 Axes>"
            ],
            "image/png": "[encoded data removed]"
          },
          "metadata": {}
        }
      ],
      "source": [
        "# your code goes here\n",
        "table_name = 'DatabaseDesireNextYear'  # the table you wish to describe\n",
        "\n",
        "QUERY = \"\"\"\n",
        "SELECT sql FROM sqlite_master\n",
        "WHERE name= '{}'\n",
        "\"\"\".format(table_name)\n",
        "\n",
        "df = pd.read_sql_query(QUERY,conn)\n",
        "print(df.iat[0,0])\n",
        "\n",
        "QUERY = \"\"\"\n",
        "SELECT DatabaseDesireNextYear, count(DatabaseDesireNextYear) as Count\n",
        "FROM DatabaseDesireNextYear\n",
        "GROUP BY DatabaseDesireNextYear\n",
        "\"\"\"\n",
        "df = pd.read_sql_query(QUERY,conn)\n",
        "df.sort_values('Count', ascending=False,inplace=True)\n",
        "\n",
        "df = df.head(5)\n",
        "total = df.sum(0)[1]\n",
        "\n",
        "df['percent'] = 100 * df['Count']/total\n",
        "\n",
        "df.set_index('DatabaseDesireNextYear')\n",
        "print(df)\n",
        "\n",
        "\n",
        "# autopct create %, start angle represent starting point\n",
        "df['Count'].plot(kind='pie',\n",
        "                            figsize=(5, 6),\n",
        "                            autopct='%1.1f%%', # add in percentages\n",
        "                            startangle=90,     # start angle 90° (Africa)\n",
        "                            shadow=True,       # add shadow      \n",
        "                            labels=df['DatabaseDesireNextYear'])\n",
        "\n",
        "plt.title('Top 5 databases that respondents wish to learn next year')\n",
        "plt.axis('equal') # Sets the pie chart to look like a circle.\n",
        "\n",
        "plt.show()"
      ]
    },
    {
      "cell_type": "markdown",
      "metadata": {
        "id": "Qz7fopfFKiB4"
      },
      "source": [
        "### Stacked Charts\n"
      ]
    },
    {
      "cell_type": "markdown",
      "metadata": {
        "id": "95VubS6NKiB4"
      },
      "source": [
        "Create a stacked chart of median `WorkWeekHrs` and `CodeRevHrs` for the age group 30 to 35.\n"
      ]
    },
    {
      "cell_type": "code",
      "execution_count": null,
      "metadata": {
        "colab": {
          "base_uri": "https://localhost:8080/",
          "height": 420
        },
        "id": "61mgKmUtKiB4",
        "outputId": "79429f62-ddd3-4d99-b454-8a972b21ae67"
      },
      "outputs": [
        {
          "output_type": "display_data",
          "data": {
            "text/plain": [
              "<Figure size 720x432 with 1 Axes>"
            ],
            "image/png": "[encoded data removed]"
          },
          "metadata": {}
        }
      ],
      "source": [
        "# your code goes here\n",
        "#step 1: get the data needed\n",
        "QUERY = \"\"\"\n",
        "SELECT WorkWeekHrs, CodeRevHrs, Age\n",
        "FROM master\n",
        "\"\"\"\n",
        "df_age = pd.read_sql_query(QUERY,conn) \n",
        "#print(df_age.shape)\n",
        "\n",
        "# group respondents by age and apply median() function \n",
        "df_age = df_age.groupby('Age', axis=0).median()\n",
        "#df_age = df_age[30:35]\n",
        "#print(df_age.shape)\n",
        "\n",
        "# step 2: plot data\n",
        "df_age[30:35].plot(kind='bar', figsize=(10, 6), stacked=True)\n",
        "\n",
        "plt.xlabel('Age') # add to x-label to the plot\n",
        "plt.ylabel('Hours') # add y-label to the plot\n",
        "plt.title('Median Hours by Age') # add title to the plot\n",
        "\n",
        "plt.show()"
      ]
    },
    {
      "cell_type": "markdown",
      "metadata": {
        "id": "E9pWxsoZKiB5"
      },
      "source": [
        "## Visualizing comparison of data\n"
      ]
    },
    {
      "cell_type": "markdown",
      "metadata": {
        "id": "kg3pAFArKiB5"
      },
      "source": [
        "### Line Chart\n"
      ]
    },
    {
      "cell_type": "markdown",
      "metadata": {
        "id": "KWgSSVA2KiB5"
      },
      "source": [
        "Plot the median `ConvertedComp` for all ages from 45 to 60.\n"
      ]
    },
    {
      "cell_type": "code",
      "execution_count": null,
      "metadata": {
        "colab": {
          "base_uri": "https://localhost:8080/",
          "height": 408
        },
        "id": "si7tbfcmKiB5",
        "outputId": "2e71d69e-8f9e-40d2-8f0f-075af5e17eb6"
      },
      "outputs": [
        {
          "output_type": "display_data",
          "data": {
            "text/plain": [
              "<Figure size 720x432 with 1 Axes>"
            ],
            "image/png": "[encoded data removed]"
          },
          "metadata": {}
        }
      ],
      "source": [
        "# your code goes here\n",
        "#step 1: get the data needed\n",
        "QUERY = \"\"\"\n",
        "SELECT ConvertedComp, Age\n",
        "FROM master\n",
        "\"\"\"\n",
        "df_comp = pd.read_sql_query(QUERY,conn) \n",
        "\n",
        "# group respondents by age and apply median() function \n",
        "df_comp = df_comp.groupby('Age', axis=0).median()\n",
        "\n",
        "\n",
        "# step 2: plot data\n",
        "df_comp[25:30].plot(kind='line', figsize=(10, 6), stacked=True)\n",
        "\n",
        "plt.xlabel('Age') # add to x-label to the plot\n",
        "plt.ylabel('$') # add y-label to the plot\n",
        "plt.title('Median Compensation by Age') # add title to the plot\n",
        "\n",
        "plt.show()"
      ]
    },
    {
      "cell_type": "markdown",
      "metadata": {
        "id": "ZG5XWMO5KiB6"
      },
      "source": [
        "### Bar Chart\n"
      ]
    },
    {
      "cell_type": "markdown",
      "metadata": {
        "id": "vxz32ECDKiB7"
      },
      "source": [
        "Create a horizontal bar chart using column `MainBranch.`\n"
      ]
    },
    {
      "cell_type": "code",
      "execution_count": null,
      "metadata": {
        "colab": {
          "base_uri": "https://localhost:8080/",
          "height": 408
        },
        "id": "zlkkHtLeKiB8",
        "outputId": "cc51a255-7f44-4f76-a4a5-e9c42fe2c7ca"
      },
      "outputs": [
        {
          "output_type": "display_data",
          "data": {
            "text/plain": [
              "<Figure size 720x432 with 1 Axes>"
            ],
            "image/png": "[encoded data removed]"
          },
          "metadata": {}
        }
      ],
      "source": [
        "# your code goes here\n",
        "#step 1: get the data needed\n",
        "QUERY = \"\"\"\n",
        "SELECT MainBranch, count(MainBranch) as Count\n",
        "FROM master\n",
        "GROUP BY MainBranch\n",
        "\"\"\"\n",
        "df_main = pd.read_sql_query(QUERY,conn) \n",
        "df_main.head()\n",
        "\n",
        "# group respondents by age and apply median() function \n",
        "#df_main = df_main.groupby('Age', axis=0).median()\n",
        "\n",
        "\n",
        "# step 2: plot data\n",
        "df_main.plot(kind='barh', figsize=(10, 6))\n",
        "\n",
        "plt.xlabel('Number of Respondents') # add to x-label to the plot\n",
        "plt.ylabel('Main Branch') # add y-label to the plot\n",
        "plt.title('Number of Respondents by Main Branch') # add title to the plot\n",
        "plt.show()"
      ]
    },
    {
      "cell_type": "markdown",
      "metadata": {
        "id": "tls-NYUVKiB8"
      },
      "source": [
        "Close the database connection.\n"
      ]
    },
    {
      "cell_type": "code",
      "execution_count": null,
      "metadata": {
        "id": "1frcgND_KiB8"
      },
      "outputs": [],
      "source": [
        "conn.close()"
      ]
    },
    {
      "cell_type": "markdown",
      "metadata": {
        "id": "fmprTuW3KiB8"
      },
      "source": [
        "## Authors\n"
      ]
    },
    {
      "cell_type": "markdown",
      "metadata": {
        "id": "-Rj5VroQKiB9"
      },
      "source": [
        "Ramesh Sannareddy\n"
      ]
    },
    {
      "cell_type": "markdown",
      "metadata": {
        "id": "82tUi9c0KiB9"
      },
      "source": [
        "### Other Contributors\n"
      ]
    },
    {
      "cell_type": "markdown",
      "metadata": {
        "id": "eLAlmhDSKiB9"
      },
      "source": [
        "Rav Ahuja\n"
      ]
    },
    {
      "cell_type": "markdown",
      "metadata": {
        "id": "rmIBmVyCKiB9"
      },
      "source": [
        "## Change Log\n"
      ]
    },
    {
      "cell_type": "markdown",
      "metadata": {
        "id": "npxlhG8rKiB-"
      },
      "source": [
        "| Date (YYYY-MM-DD) | Version | Changed By        | Change Description                 |\n",
        "| ----------------- | ------- | ----------------- | ---------------------------------- |\n",
        "| 2020-10-17        | 0.1     | Ramesh Sannareddy | Created initial version of the lab |\n"
      ]
    },
    {
      "cell_type": "markdown",
      "metadata": {
        "id": "7dgelZM2KiB-"
      },
      "source": [
        "Copyright © 2020 IBM Corporation. This notebook and its source code are released under the terms of the [MIT License](https://cognitiveclass.ai/mit-license?utm_medium=Exinfluencer&utm_source=Exinfluencer&utm_content=000026UJ&utm_term=10006555&utm_id=NA-SkillsNetwork-Channel-SkillsNetworkCoursesIBMDA0321ENSkillsNetwork21426264-2022-01-01&cm_mmc=Email_Newsletter-\\_-Developer_Ed%2BTech-\\_-WW_WW-\\_-SkillsNetwork-Courses-IBM-DA0321EN-SkillsNetwork-21426264&cm_mmca1=000026UJ&cm_mmca2=10006555&cm_mmca3=M12345678&cvosrc=email.Newsletter.M12345678&cvo_campaign=000026UJ).\n"
      ]
    }
  ],
  "metadata": {
    "kernelspec": {
      "display_name": "Python 3",
      "language": "python",
      "name": "python3"
    },
    "language_info": {
      "codemirror_mode": {
        "name": "ipython",
        "version": 3
      },
      "file_extension": ".py",
      "mimetype": "text/x-python",
      "name": "python",
      "nbconvert_exporter": "python",
      "pygments_lexer": "ipython3",
      "version": "3.7.6"
    },
    "colab": {
      "name": "M4DataVisualization-lab.ipynb",
      "provenance": [],
      "include_colab_link": true
    }
  },
  "nbformat": 4,
  "nbformat_minor": 0
}